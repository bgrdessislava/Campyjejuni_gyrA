{
 "cells": [
  {
   "cell_type": "code",
   "execution_count": 1,
   "metadata": {},
   "outputs": [],
   "source": [
    "import pickle"
   ]
  },
  {
   "cell_type": "code",
   "execution_count": 18,
   "metadata": {},
   "outputs": [],
   "source": [
    "import sys\n",
    "import numpy as np\n",
    "import pandas as pd\n",
    "#import Pyreadstat\n",
    "import seaborn as sns\n",
    "import matplotlib.pyplot as plt\n",
    "from ete3 import ClusterTree\n",
    "from scipy.spatial.distance import pdist\n",
    "from scipy.cluster.hierarchy import linkage, fcluster\n",
    "from sklearn.metrics.cluster import adjusted_rand_score\n",
    "from sklearn.model_selection import train_test_split"
   ]
  },
  {
   "cell_type": "code",
   "execution_count": null,
   "metadata": {},
   "outputs": [],
   "source": [
    "# https://stackoverflow.com/questions/31033835/newick-tree-representation-to-scipy-cluster-hierarchy-linkage-matrix-format\n",
    "\n",
    "def newick_to_linkage(newick: str) -> (np.ndarray, [str]):\n",
    "    \"\"\"\n",
    "    Convert newick tree into scipy linkage matrix\n",
    "\n",
    "    :param newick: newick string, e.g. '(A:0.1,B:0.2,(C:0.3,D:0.4):0.5);'\n",
    "    :returns: linkage matrix and list of labels\n",
    "    \"\"\"\n",
    "    # newick string -> cophenetic_matrix\n",
    "    tree = ClusterTree(newick)\n",
    "    cophenetic_matrix, newick_labels = tree.cophenetic_matrix()\n",
    "    cophenetic_matrix = pd.DataFrame(\n",
    "        cophenetic_matrix, columns=newick_labels, index=newick_labels)\n",
    "\n",
    "    # reduce square distance matrix to condensed distance matrices\n",
    "    pairwise_distances = pdist(cophenetic_matrix)\n",
    "    \n",
    "    # return linkage matrix and labels\n",
    "    return linkage(pairwise_distances), list(cophenetic_matrix.columns)\n",
    "\n",
    "\n",
    "def readNewick(nwk):\n",
    "    with open(nwk) as fh:\n",
    "        return fh.readline()"
   ]
  },
  {
   "cell_type": "code",
   "execution_count": null,
   "metadata": {},
   "outputs": [],
   "source": [
    "cols = ([\n",
    "    'id', 'aspA', 'glnA', 'gltA', 'glyA', 'pgm', 'tkt', \n",
    "    'uncA', 'ST (MLST)', 'clonal_complex (MLST)'\n",
    "])\n",
    "df = pd.read_excel('../../CC353_Analysis/10359_Dataframe.xlsx')[cols]\n",
    "df['id'] = df['id'].astype(str)\n",
    "df = df.set_index('id')"
   ]
  },
  {
   "cell_type": "code",
   "execution_count": null,
   "metadata": {},
   "outputs": [],
   "source": [
    "nwk = readNewick('../../CC353_Analysis/10359_grapetree/BIGSdb_024808_1423149961_99700_tree.nwk')"
   ]
  },
  {
   "cell_type": "code",
   "execution_count": null,
   "metadata": {},
   "outputs": [],
   "source": [
    "linkageMatrix, labels = newick_to_linkage(newick=nwk)"
   ]
  },
  {
   "cell_type": "code",
   "execution_count": 3,
   "metadata": {},
   "outputs": [],
   "source": [
    "ngroup = 35"
   ]
  },
  {
   "cell_type": "code",
   "execution_count": null,
   "metadata": {},
   "outputs": [],
   "source": [
    "clusters = fcluster(linkageMatrix, t=ngroup, criterion='maxclust', depth=2, R=None, monocrit=None)\n",
    "labelsID = pd.DataFrame(clusters, labels, columns=[f'fullNG-{ngroup}'])"
   ]
  },
  {
   "cell_type": "code",
   "execution_count": null,
   "metadata": {},
   "outputs": [],
   "source": [
    "df = pd.merge(df, labelsID, left_index=True, right_index=True).fillna('Unknown')"
   ]
  },
  {
   "cell_type": "code",
   "execution_count": null,
   "metadata": {},
   "outputs": [],
   "source": [
    "y = list(range(len(df)))\n",
    "X_train, X_test, y_train, y_test = train_test_split(df, y, test_size=0.2, random_state=42)"
   ]
  },
  {
   "cell_type": "code",
   "execution_count": null,
   "metadata": {},
   "outputs": [],
   "source": [
    "with open('../../Data/training_0.8idname.txt','w') as fh:\n",
    "    for idname in X_train.index:\n",
    "        print(idname, file=fh)"
   ]
  },
  {
   "cell_type": "code",
   "execution_count": null,
   "metadata": {},
   "outputs": [],
   "source": [
    "nwk = readNewick('../../Data/8284isolates_training_0.8_isolate_grapetree/BIGSdb_008959_0106465177_07730_tree.nwk')\n",
    "linkageMatrix, labels = newick_to_linkage(newick=nwk)\n",
    "clusters = fcluster(linkageMatrix, t=ngroup, criterion='maxclust', depth=2, R=None, monocrit=None)\n",
    "labelsID = pd.DataFrame(clusters, labels, columns=[f'trainNG-{ngroup}'])\n",
    "\n",
    "X_train = pd.merge(X_train, labelsID, left_index=True, right_index=True).fillna('Unknown')"
   ]
  },
  {
   "cell_type": "code",
   "execution_count": null,
   "metadata": {},
   "outputs": [],
   "source": [
    "X_train.to_excel(\"../../Data/X_train.xlsx\")\n",
    "X_test.to_excel(\"../../Data/X_test.xlsx\")"
   ]
  },
  {
   "cell_type": "code",
   "execution_count": 11,
   "metadata": {},
   "outputs": [],
   "source": [
    "X_trainAll = pd.read_excel(\"../../Data/X_train.xlsx\")\n",
    "X_testAll = pd.read_excel(\"../../Data/X_test.xlsx\")"
   ]
  },
  {
   "cell_type": "code",
   "execution_count": 5,
   "metadata": {},
   "outputs": [],
   "source": [
    "import catboost\n",
    "from catboost import CatBoostClassifier\n",
    "from sklearn.model_selection import train_test_split\n",
    "from sklearn.metrics import accuracy_score"
   ]
  },
  {
   "cell_type": "code",
   "execution_count": 6,
   "metadata": {},
   "outputs": [],
   "source": [
    "target = f'trainNG-{ngroup}'\n",
    "\n",
    "y_train = X_trainAll.pop(target)\n",
    "X_train = X_trainAll[['aspA', 'glnA', 'gltA', 'glyA', 'pgm', 'tkt', 'uncA']].copy().astype('category')\n",
    "X_test = X_testAll[['aspA', 'glnA', 'gltA', 'glyA', 'pgm', 'tkt', 'uncA']].copy().astype('category')"
   ]
  },
  {
   "cell_type": "code",
   "execution_count": 7,
   "metadata": {},
   "outputs": [],
   "source": [
    "#If you want to run the model this is the one\n",
    "model = CatBoostClassifier(verbose=0)\n",
    "model = model.fit(X_train, y_train, cat_features=list(X_train.columns))"
   ]
  },
  {
   "cell_type": "code",
   "execution_count": 12,
   "metadata": {},
   "outputs": [],
   "source": [
    "X_testAll['prediction'] = model.predict(X_test)\n",
    "X_testAll['predictionProb'] = model.predict_proba(X_test).max(axis=1)"
   ]
  },
  {
   "cell_type": "code",
   "execution_count": 32,
   "metadata": {},
   "outputs": [
    {
     "data": {
      "text/plain": [
       "0.9127698701382765"
      ]
     },
     "execution_count": 32,
     "metadata": {},
     "output_type": "execute_result"
    }
   ],
   "source": [
    "sub = X_testAll.loc[X_testAll['predictionProb'] > 0.99].copy()\n",
    "adjusted_rand_score(sub['prediction'], sub[f'fullNG-{ngroup}'])"
   ]
  },
  {
   "cell_type": "code",
   "execution_count": 31,
   "metadata": {},
   "outputs": [
    {
     "data": {
      "text/html": [
       "<div>\n",
       "<style scoped>\n",
       "    .dataframe tbody tr th:only-of-type {\n",
       "        vertical-align: middle;\n",
       "    }\n",
       "\n",
       "    .dataframe tbody tr th {\n",
       "        vertical-align: top;\n",
       "    }\n",
       "\n",
       "    .dataframe thead th {\n",
       "        text-align: right;\n",
       "    }\n",
       "</style>\n",
       "<table border=\"1\" class=\"dataframe\">\n",
       "  <thead>\n",
       "    <tr style=\"text-align: right;\">\n",
       "      <th></th>\n",
       "      <th>Unnamed: 0</th>\n",
       "      <th>aspA</th>\n",
       "      <th>glnA</th>\n",
       "      <th>gltA</th>\n",
       "      <th>glyA</th>\n",
       "      <th>pgm</th>\n",
       "      <th>tkt</th>\n",
       "      <th>uncA</th>\n",
       "      <th>ST (MLST)</th>\n",
       "      <th>clonal_complex (MLST)</th>\n",
       "      <th>fullNG-35</th>\n",
       "      <th>prediction</th>\n",
       "      <th>predictionProb</th>\n",
       "    </tr>\n",
       "  </thead>\n",
       "  <tbody>\n",
       "    <tr>\n",
       "      <th>0</th>\n",
       "      <td>40796</td>\n",
       "      <td>8</td>\n",
       "      <td>10</td>\n",
       "      <td>2</td>\n",
       "      <td>2</td>\n",
       "      <td>11</td>\n",
       "      <td>12</td>\n",
       "      <td>6</td>\n",
       "      <td>354</td>\n",
       "      <td>ST-354 complex</td>\n",
       "      <td>1</td>\n",
       "      <td>22</td>\n",
       "      <td>0.999942</td>\n",
       "    </tr>\n",
       "    <tr>\n",
       "      <th>1</th>\n",
       "      <td>63360</td>\n",
       "      <td>1</td>\n",
       "      <td>4</td>\n",
       "      <td>2</td>\n",
       "      <td>2</td>\n",
       "      <td>6</td>\n",
       "      <td>3</td>\n",
       "      <td>17</td>\n",
       "      <td>61</td>\n",
       "      <td>ST-61 complex</td>\n",
       "      <td>31</td>\n",
       "      <td>32</td>\n",
       "      <td>0.999910</td>\n",
       "    </tr>\n",
       "    <tr>\n",
       "      <th>4</th>\n",
       "      <td>42089</td>\n",
       "      <td>2</td>\n",
       "      <td>4</td>\n",
       "      <td>1</td>\n",
       "      <td>2</td>\n",
       "      <td>7</td>\n",
       "      <td>1</td>\n",
       "      <td>5</td>\n",
       "      <td>48</td>\n",
       "      <td>ST-48 complex</td>\n",
       "      <td>18</td>\n",
       "      <td>17</td>\n",
       "      <td>0.999950</td>\n",
       "    </tr>\n",
       "    <tr>\n",
       "      <th>5</th>\n",
       "      <td>59481</td>\n",
       "      <td>2</td>\n",
       "      <td>1</td>\n",
       "      <td>12</td>\n",
       "      <td>687</td>\n",
       "      <td>2</td>\n",
       "      <td>1</td>\n",
       "      <td>5</td>\n",
       "      <td>8358</td>\n",
       "      <td>ST-21 complex</td>\n",
       "      <td>29</td>\n",
       "      <td>31</td>\n",
       "      <td>0.999953</td>\n",
       "    </tr>\n",
       "    <tr>\n",
       "      <th>6</th>\n",
       "      <td>76877</td>\n",
       "      <td>4</td>\n",
       "      <td>7</td>\n",
       "      <td>10</td>\n",
       "      <td>4</td>\n",
       "      <td>42</td>\n",
       "      <td>7</td>\n",
       "      <td>1</td>\n",
       "      <td>137</td>\n",
       "      <td>ST-45 complex</td>\n",
       "      <td>10</td>\n",
       "      <td>7</td>\n",
       "      <td>0.999974</td>\n",
       "    </tr>\n",
       "    <tr>\n",
       "      <th>...</th>\n",
       "      <td>...</td>\n",
       "      <td>...</td>\n",
       "      <td>...</td>\n",
       "      <td>...</td>\n",
       "      <td>...</td>\n",
       "      <td>...</td>\n",
       "      <td>...</td>\n",
       "      <td>...</td>\n",
       "      <td>...</td>\n",
       "      <td>...</td>\n",
       "      <td>...</td>\n",
       "      <td>...</td>\n",
       "      <td>...</td>\n",
       "    </tr>\n",
       "    <tr>\n",
       "      <th>2054</th>\n",
       "      <td>41380</td>\n",
       "      <td>4</td>\n",
       "      <td>7</td>\n",
       "      <td>40</td>\n",
       "      <td>4</td>\n",
       "      <td>42</td>\n",
       "      <td>51</td>\n",
       "      <td>1</td>\n",
       "      <td>267</td>\n",
       "      <td>ST-283 complex</td>\n",
       "      <td>10</td>\n",
       "      <td>7</td>\n",
       "      <td>0.999973</td>\n",
       "    </tr>\n",
       "    <tr>\n",
       "      <th>2061</th>\n",
       "      <td>50348</td>\n",
       "      <td>4</td>\n",
       "      <td>7</td>\n",
       "      <td>10</td>\n",
       "      <td>4</td>\n",
       "      <td>1</td>\n",
       "      <td>7</td>\n",
       "      <td>1</td>\n",
       "      <td>45</td>\n",
       "      <td>ST-45 complex</td>\n",
       "      <td>10</td>\n",
       "      <td>7</td>\n",
       "      <td>0.999974</td>\n",
       "    </tr>\n",
       "    <tr>\n",
       "      <th>2065</th>\n",
       "      <td>24611</td>\n",
       "      <td>4</td>\n",
       "      <td>7</td>\n",
       "      <td>10</td>\n",
       "      <td>4</td>\n",
       "      <td>1</td>\n",
       "      <td>7</td>\n",
       "      <td>1</td>\n",
       "      <td>45</td>\n",
       "      <td>ST-45 complex</td>\n",
       "      <td>10</td>\n",
       "      <td>7</td>\n",
       "      <td>0.999974</td>\n",
       "    </tr>\n",
       "    <tr>\n",
       "      <th>2066</th>\n",
       "      <td>63838</td>\n",
       "      <td>1</td>\n",
       "      <td>4</td>\n",
       "      <td>2</td>\n",
       "      <td>2</td>\n",
       "      <td>6</td>\n",
       "      <td>3</td>\n",
       "      <td>17</td>\n",
       "      <td>61</td>\n",
       "      <td>ST-61 complex</td>\n",
       "      <td>31</td>\n",
       "      <td>32</td>\n",
       "      <td>0.999910</td>\n",
       "    </tr>\n",
       "    <tr>\n",
       "      <th>2067</th>\n",
       "      <td>42097</td>\n",
       "      <td>2</td>\n",
       "      <td>4</td>\n",
       "      <td>1</td>\n",
       "      <td>2</td>\n",
       "      <td>7</td>\n",
       "      <td>1</td>\n",
       "      <td>5</td>\n",
       "      <td>48</td>\n",
       "      <td>ST-48 complex</td>\n",
       "      <td>18</td>\n",
       "      <td>17</td>\n",
       "      <td>0.999950</td>\n",
       "    </tr>\n",
       "  </tbody>\n",
       "</table>\n",
       "<p>740 rows × 13 columns</p>\n",
       "</div>"
      ],
      "text/plain": [
       "      Unnamed: 0  aspA  glnA  gltA  glyA  pgm  tkt  uncA  ST (MLST)  \\\n",
       "0          40796     8    10     2     2   11   12     6        354   \n",
       "1          63360     1     4     2     2    6    3    17         61   \n",
       "4          42089     2     4     1     2    7    1     5         48   \n",
       "5          59481     2     1    12   687    2    1     5       8358   \n",
       "6          76877     4     7    10     4   42    7     1        137   \n",
       "...          ...   ...   ...   ...   ...  ...  ...   ...        ...   \n",
       "2054       41380     4     7    40     4   42   51     1        267   \n",
       "2061       50348     4     7    10     4    1    7     1         45   \n",
       "2065       24611     4     7    10     4    1    7     1         45   \n",
       "2066       63838     1     4     2     2    6    3    17         61   \n",
       "2067       42097     2     4     1     2    7    1     5         48   \n",
       "\n",
       "     clonal_complex (MLST)  fullNG-35  prediction  predictionProb  \n",
       "0           ST-354 complex          1          22        0.999942  \n",
       "1            ST-61 complex         31          32        0.999910  \n",
       "4            ST-48 complex         18          17        0.999950  \n",
       "5            ST-21 complex         29          31        0.999953  \n",
       "6            ST-45 complex         10           7        0.999974  \n",
       "...                    ...        ...         ...             ...  \n",
       "2054        ST-283 complex         10           7        0.999973  \n",
       "2061         ST-45 complex         10           7        0.999974  \n",
       "2065         ST-45 complex         10           7        0.999974  \n",
       "2066         ST-61 complex         31          32        0.999910  \n",
       "2067         ST-48 complex         18          17        0.999950  \n",
       "\n",
       "[740 rows x 13 columns]"
      ]
     },
     "execution_count": 31,
     "metadata": {},
     "output_type": "execute_result"
    }
   ],
   "source": [
    "sub"
   ]
  },
  {
   "cell_type": "code",
   "execution_count": 15,
   "metadata": {},
   "outputs": [
    {
     "data": {
      "text/plain": [
       "0.879744301475557"
      ]
     },
     "execution_count": 15,
     "metadata": {},
     "output_type": "execute_result"
    }
   ],
   "source": [
    "adjusted_rand_score(X_testAll['prediction'], X_testAll[f'fullNG-{ngroup}'])"
   ]
  },
  {
   "cell_type": "code",
   "execution_count": null,
   "metadata": {},
   "outputs": [],
   "source": [
    "labelledData['Prediction_Catboost'] = model.predict(X)\n",
    "labelledData.to_excel(\"labelledCatBoost.xlsx\") "
   ]
  },
  {
   "cell_type": "code",
   "execution_count": null,
   "metadata": {},
   "outputs": [],
   "source": [
    "#Opening the model file \n",
    "model = pd.read_pickle(r'model.sav')"
   ]
  },
  {
   "cell_type": "code",
   "execution_count": null,
   "metadata": {},
   "outputs": [],
   "source": [
    "predicted_test = model.predict(X_test)"
   ]
  },
  {
   "cell_type": "code",
   "execution_count": null,
   "metadata": {},
   "outputs": [],
   "source": [
    "adjusted_rand_score(y_test,predicted_test.flatten())"
   ]
  },
  {
   "cell_type": "code",
   "execution_count": null,
   "metadata": {},
   "outputs": [],
   "source": [
    "labelledData = pd.read_excel(\"labelledCatBoost.xlsx\")\n",
    "# How accurately does the prediction match the tree?"
   ]
  },
  {
   "cell_type": "code",
   "execution_count": null,
   "metadata": {},
   "outputs": [],
   "source": [
    "labelledData.head()"
   ]
  },
  {
   "cell_type": "code",
   "execution_count": null,
   "metadata": {},
   "outputs": [],
   "source": [
    "# How accurately does the CC label match the tree?\n",
    "adjusted_rand_score(labelledData['clonal_complex (MLST)'], labelledData['Group'])"
   ]
  },
  {
   "cell_type": "code",
   "execution_count": null,
   "metadata": {},
   "outputs": [],
   "source": [
    "# How accurately does the CC label match the tree?\n",
    "adjusted_rand_score(y_pred.flatten(), y_test)"
   ]
  },
  {
   "cell_type": "code",
   "execution_count": null,
   "metadata": {},
   "outputs": [],
   "source": [
    "#This saved the model into pickle file \n",
    "#filename = 'model.sav'\n",
    "#pickle.dump(model, open(filename, 'wb'))"
   ]
  },
  {
   "cell_type": "code",
   "execution_count": null,
   "metadata": {},
   "outputs": [],
   "source": [
    "with open('model.sav', 'rb') as file:\n",
    "      \n",
    "    # Call load method to deserialze\n",
    "    model = pickle.load(file)\n"
   ]
  },
  {
   "cell_type": "code",
   "execution_count": null,
   "metadata": {},
   "outputs": [],
   "source": [
    "labelledData.groupby('Prediction_Catboost')['clonal_complex (MLST)'].agg(pd.Series.mode)"
   ]
  },
  {
   "cell_type": "code",
   "execution_count": null,
   "metadata": {},
   "outputs": [],
   "source": [
    "labelledData[labelledData['Prediction_Catboost'] == '8']"
   ]
  },
  {
   "cell_type": "code",
   "execution_count": null,
   "metadata": {},
   "outputs": [],
   "source": [
    "labelledData['Group'].unique()"
   ]
  },
  {
   "cell_type": "code",
   "execution_count": null,
   "metadata": {},
   "outputs": [],
   "source": [
    "len(labelledData['Prediction_Catboost'].unique())"
   ]
  },
  {
   "cell_type": "code",
   "execution_count": null,
   "metadata": {},
   "outputs": [],
   "source": []
  }
 ],
 "metadata": {
  "kernelspec": {
   "display_name": "Python 3",
   "language": "python",
   "name": "python3"
  },
  "language_info": {
   "codemirror_mode": {
    "name": "ipython",
    "version": 3
   },
   "file_extension": ".py",
   "mimetype": "text/x-python",
   "name": "python",
   "nbconvert_exporter": "python",
   "pygments_lexer": "ipython3",
   "version": "3.8.3"
  }
 },
 "nbformat": 4,
 "nbformat_minor": 5
}
