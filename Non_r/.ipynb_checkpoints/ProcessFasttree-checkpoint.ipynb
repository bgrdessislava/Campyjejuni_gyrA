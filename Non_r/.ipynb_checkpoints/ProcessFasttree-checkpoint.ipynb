{
 "cells": [
  {
   "cell_type": "code",
   "execution_count": 4,
   "metadata": {},
   "outputs": [],
   "source": [
    "import sys\n",
    "import glob\n",
    "import numpy as np\n",
    "import pandas as pd\n",
    "#import Pyreadstat\n",
    "from ete3 import ClusterTree\n",
    "from scipy.spatial.distance import pdist\n",
    "from scipy.cluster.hierarchy import linkage, fcluster\n",
    "from sklearn.metrics.cluster import adjusted_rand_score"
   ]
  },
  {
   "cell_type": "code",
   "execution_count": 2,
   "metadata": {},
   "outputs": [],
   "source": [
    "# https://stackoverflow.com/questions/31033835/newick-tree-representation-to-scipy-cluster-hierarchy-linkage-matrix-format\n",
    "\n",
    "def newick_to_linkage(newick: str, label_order: [str] = None) -> (np.ndarray, [str]):\n",
    "    \"\"\"\n",
    "    Convert newick tree into scipy linkage matrix\n",
    "\n",
    "    :param newick: newick string, e.g. '(A:0.1,B:0.2,(C:0.3,D:0.4):0.5);'\n",
    "    :param label_order: list of labels, e.g. ['A', 'B', 'C']\n",
    "    :returns: linkage matrix and list of labels\n",
    "    \"\"\"\n",
    "    # newick string -> cophenetic_matrix\n",
    "    tree = ClusterTree(newick)\n",
    "    cophenetic_matrix, newick_labels = tree.cophenetic_matrix()\n",
    "    cophenetic_matrix = pd.DataFrame(cophenetic_matrix, columns=newick_labels, index=newick_labels)\n",
    "\n",
    "    if label_order is not None:\n",
    "        # sanity checks\n",
    "        missing_labels = set(label_order).difference(set(newick_labels))\n",
    "        superfluous_labels = set(newick_labels).difference(set(label_order))\n",
    "        assert len(missing_labels) == 0, f'Some labels are not in the newick string: {missing_labels}'\n",
    "        if len(superfluous_labels) > 0:\n",
    "            print(f'Newick string contains unused labels: {superfluous_labels}', file=sys.stderr)\n",
    "\n",
    "        # reorder the cophenetic_matrix\n",
    "        cophenetic_matrix = cophenetic_matrix.reindex(index=label_order, columns=label_order)\n",
    "\n",
    "    # reduce square distance matrix to condensed distance matrices\n",
    "    pairwise_distances = pdist(cophenetic_matrix)\n",
    "    \n",
    "    # return linkage matrix and labels\n",
    "    return linkage(pairwise_distances), list(cophenetic_matrix.columns)\n",
    "\n",
    "\n",
    "def readNewick(nwk):\n",
    "    with open(nwk) as fh:\n",
    "        return fh.readline()"
   ]
  },
  {
   "cell_type": "code",
   "execution_count": 5,
   "metadata": {},
   "outputs": [],
   "source": [
    "newicks = glob.glob('../../Data/13672_analysis/*nwk')"
   ]
  },
  {
   "cell_type": "code",
   "execution_count": 5,
   "metadata": {},
   "outputs": [],
   "source": [
    "nwk = readNewick('10359_grapetree/BIGSdb_024808_1423149961_99700_tree.nwk')"
   ]
  },
  {
   "cell_type": "code",
   "execution_count": 6,
   "metadata": {},
   "outputs": [],
   "source": [
    "linkageMatrix, labels = newick_to_linkage(newick=nwk)"
   ]
  }
 ],
 "metadata": {
  "kernelspec": {
   "display_name": "Python 3",
   "language": "python",
   "name": "python3"
  },
  "language_info": {
   "codemirror_mode": {
    "name": "ipython",
    "version": 3
   },
   "file_extension": ".py",
   "mimetype": "text/x-python",
   "name": "python",
   "nbconvert_exporter": "python",
   "pygments_lexer": "ipython3",
   "version": "3.8.3"
  }
 },
 "nbformat": 4,
 "nbformat_minor": 5
}
