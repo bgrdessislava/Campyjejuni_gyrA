{
 "cells": [
  {
   "cell_type": "code",
   "execution_count": 2,
   "metadata": {},
   "outputs": [],
   "source": [
    "#importing pickle file that contains ----\n",
    "import pickle"
   ]
  },
  {
   "cell_type": "code",
   "execution_count": 3,
   "metadata": {},
   "outputs": [],
   "source": [
    "import sys\n",
    "import numpy as np\n",
    "import pandas as pd\n",
    "#import Pyreadstat\n",
    "import seaborn as sns\n",
    "import matplotlib.pyplot as plt\n",
    "from ete3 import ClusterTree\n",
    "from scipy.spatial.distance import pdist\n",
    "from scipy.cluster.hierarchy import linkage, fcluster\n",
    "from sklearn.metrics.cluster import adjusted_rand_score\n",
    "from sklearn.model_selection import train_test_split"
   ]
  },
  {
   "cell_type": "code",
   "execution_count": 4,
   "metadata": {},
   "outputs": [],
   "source": [
    "#This code transforms the newick file to matrix so that we can compare it\n",
    "# https://stackoverflow.com/questions/31033835/newick-tree-representation-to-scipy-cluster-hierarchy-linkage-matrix-format\n",
    "\n",
    "def newick_to_linkage(newick: str) -> (np.ndarray, [str]):\n",
    "    \"\"\"\n",
    "    Convert newick tree into scipy linkage matrix\n",
    "\n",
    "    :param newick: newick string, e.g. '(A:0.1,B:0.2,(C:0.3,D:0.4):0.5);'\n",
    "    :returns: linkage matrix and list of labels\n",
    "    \"\"\"\n",
    "    # newick string -> cophenetic_matrix\n",
    "    tree = ClusterTree(newick)\n",
    "    cophenetic_matrix, newick_labels = tree.cophenetic_matrix()\n",
    "    cophenetic_matrix = pd.DataFrame(\n",
    "        cophenetic_matrix, columns=newick_labels, index=newick_labels)\n",
    "\n",
    "    # reduce square distance matrix to condensed distance matrices\n",
    "    pairwise_distances = pdist(cophenetic_matrix)\n",
    "    \n",
    "    # return linkage matrix and labels \n",
    "    return linkage(pairwise_distances), list(cophenetic_matrix.columns)\n",
    "\n",
    "\n",
    "def readNewick(nwk):\n",
    "    with open(nwk) as fh:\n",
    "        return fh.readline()"
   ]
  },
  {
   "cell_type": "code",
   "execution_count": 5,
   "metadata": {},
   "outputs": [],
   "source": [
    "#Picking the 7 MLST and its MLST and CC as labels \n",
    "cols = ([\n",
    "    'id', 'aspA', 'glnA', 'gltA', 'glyA', 'pgm', 'tkt', \n",
    "    'uncA', 'ST (MLST)', 'clonal_complex (MLST)'\n",
    "])\n",
    "#Reading the dataframe that contains the 10359 isolates\n",
    "df = pd.read_excel('../../CC353_Analysis/10359_Dataframe.xlsx')[cols]\n",
    "#Read in the id as as string \n",
    "df['id'] = df['id'].astype(str)\n",
    "#Put the index as id\n",
    "df = df.set_index('id')"
   ]
  },
  {
   "cell_type": "code",
   "execution_count": 6,
   "metadata": {},
   "outputs": [],
   "source": [
    "#Newick file that contains the big 10359 tree \n",
    "nwk = readNewick('../../CC353_Analysis/10359_grapetree/BIGSdb_024808_1423149961_99700_tree.nwk')"
   ]
  },
  {
   "cell_type": "code",
   "execution_count": 7,
   "metadata": {},
   "outputs": [],
   "source": [
    "#Run the linkage matrix that was being produced on the top with labels that is returned. \n",
    "linkageMatrix, labels = newick_to_linkage(newick=nwk)"
   ]
  },
  {
   "cell_type": "code",
   "execution_count": 8,
   "metadata": {},
   "outputs": [],
   "source": [
    "#When we choose how mnay groups we want \n",
    "ngroup = 20"
   ]
  },
  {
   "cell_type": "code",
   "execution_count": 9,
   "metadata": {},
   "outputs": [],
   "source": [
    "#making higherarchical clustering \n",
    "clusters = fcluster(linkageMatrix, t=ngroup, criterion='maxclust', depth=2, R=None, monocrit=None)\n",
    "#Making a dataframe with clusuters, lavels and the nGroups chosen \n",
    "labelsID = pd.DataFrame(clusters, labels, columns=[f'fullNG-{ngroup}'])"
   ]
  },
  {
   "cell_type": "code",
   "execution_count": 10,
   "metadata": {},
   "outputs": [],
   "source": [
    "#Merging the id, clusters with labels, the number of Neighbour groups\n",
    "df = pd.merge(df, labelsID, left_index=True, right_index=True).fillna('Unknown')"
   ]
  },
  {
   "cell_type": "code",
   "execution_count": 11,
   "metadata": {},
   "outputs": [],
   "source": [
    "#list the range of the length of the df showcasing the number of isolates?\n",
    "y = list(range(len(df)))\n",
    "#Divide them into train and test dataset with test size 0.2 and the rest to be training test, The 42 gives you the random state to be identical \n",
    "X_train, X_test, y_train, y_test = train_test_split(df, y, test_size=0.2, random_state=42)"
   ]
  },
  {
   "cell_type": "code",
   "execution_count": 12,
   "metadata": {},
   "outputs": [],
   "source": [
    "#Open the file with training 0.8 id name but where has this come from?\n",
    "with open('../../Data/training_0.8idname.txt','w') as fh:\n",
    "    for idname in X_train.index:\n",
    "        print(idname, file=fh)"
   ]
  },
  {
   "cell_type": "code",
   "execution_count": 13,
   "metadata": {},
   "outputs": [],
   "source": [
    "#read the training dataset that is for 80% tree \n",
    "nwk = readNewick('../../Data/8284isolates_training_0.8_isolate_grapetree/BIGSdb_008959_0106465177_07730_tree.nwk')\n",
    "linkageMatrix, labels = newick_to_linkage(newick=nwk)\n",
    "clusters = fcluster(linkageMatrix, t=ngroup, criterion='maxclust', depth=2, R=None, monocrit=None)\n",
    "labelsID = pd.DataFrame(clusters, labels, columns=[f'trainNG-{ngroup}'])\n",
    "\n",
    "X_train = pd.merge(X_train, labelsID, left_index=True, right_index=True).fillna('Unknown')"
   ]
  },
  {
   "cell_type": "code",
   "execution_count": 14,
   "metadata": {},
   "outputs": [],
   "source": [
    "#Make two sets of groups for train and test into an excel, is this for 80%?\n",
    "X_train.to_excel(\"../../Data/X_train.xlsx\")\n",
    "X_test.to_excel(\"../../Data/X_test.xlsx\")"
   ]
  },
  {
   "cell_type": "code",
   "execution_count": 15,
   "metadata": {},
   "outputs": [],
   "source": [
    "#Separate it to train and test but is this also for the big tree?\n",
    "X_trainAll = pd.read_excel(\"../../Data/X_train.xlsx\")\n",
    "X_testAll = pd.read_excel(\"../../Data/X_test.xlsx\")"
   ]
  },
  {
   "cell_type": "code",
   "execution_count": 16,
   "metadata": {},
   "outputs": [],
   "source": [
    "import catboost\n",
    "from catboost import CatBoostClassifier\n",
    "from sklearn.model_selection import train_test_split\n",
    "from sklearn.metrics import accuracy_score"
   ]
  },
  {
   "cell_type": "code",
   "execution_count": 17,
   "metadata": {},
   "outputs": [],
   "source": [
    "#Our target is to get the NG20 \n",
    "target = f'trainNG-{ngroup}'\n",
    "\n",
    "#Training the Ngroup using the target\n",
    "y_train = X_trainAll.pop(target)\n",
    "#Separate the train and test values which are the 7 MLST and also trying to rpedict the 7 again?\n",
    "X_train = X_trainAll[['aspA', 'glnA', 'gltA', 'glyA', 'pgm', 'tkt', 'uncA']].copy().astype('category')\n",
    "X_test = X_testAll[['aspA', 'glnA', 'gltA', 'glyA', 'pgm', 'tkt', 'uncA']].copy().astype('category')"
   ]
  },
  {
   "cell_type": "code",
   "execution_count": 18,
   "metadata": {},
   "outputs": [],
   "source": [
    "#If you want to run the model this is the one\n",
    "model = CatBoostClassifier(verbose=0)\n",
    "model = model.fit(X_train, y_train, cat_features=list(X_train.columns))"
   ]
  },
  {
   "cell_type": "code",
   "execution_count": 19,
   "metadata": {},
   "outputs": [],
   "source": [
    "#That gives the prediction probability to give you more actual values of the rpedictions\n",
    "X_testAll['prediction'] = model.predict(X_test)\n",
    "X_testAll['predictionProb'] = model.predict_proba(X_test).max(axis=1)"
   ]
  },
  {
   "cell_type": "code",
   "execution_count": 20,
   "metadata": {},
   "outputs": [
    {
     "data": {
      "text/plain": [
       "0.961246235287375"
      ]
     },
     "execution_count": 20,
     "metadata": {},
     "output_type": "execute_result"
    }
   ],
   "source": [
    "sub = X_testAll.loc[X_testAll['predictionProb'] > 0.999].copy()\n",
    "adjusted_rand_score(sub['prediction'], sub[f'fullNG-{ngroup}'])"
   ]
  },
  {
   "cell_type": "code",
   "execution_count": 21,
   "metadata": {},
   "outputs": [
    {
     "data": {
      "text/html": [
       "<div>\n",
       "<style scoped>\n",
       "    .dataframe tbody tr th:only-of-type {\n",
       "        vertical-align: middle;\n",
       "    }\n",
       "\n",
       "    .dataframe tbody tr th {\n",
       "        vertical-align: top;\n",
       "    }\n",
       "\n",
       "    .dataframe thead th {\n",
       "        text-align: right;\n",
       "    }\n",
       "</style>\n",
       "<table border=\"1\" class=\"dataframe\">\n",
       "  <thead>\n",
       "    <tr style=\"text-align: right;\">\n",
       "      <th></th>\n",
       "      <th>Unnamed: 0</th>\n",
       "      <th>aspA</th>\n",
       "      <th>glnA</th>\n",
       "      <th>gltA</th>\n",
       "      <th>glyA</th>\n",
       "      <th>pgm</th>\n",
       "      <th>tkt</th>\n",
       "      <th>uncA</th>\n",
       "      <th>ST (MLST)</th>\n",
       "      <th>clonal_complex (MLST)</th>\n",
       "      <th>fullNG-20</th>\n",
       "      <th>prediction</th>\n",
       "      <th>predictionProb</th>\n",
       "    </tr>\n",
       "  </thead>\n",
       "  <tbody>\n",
       "    <tr>\n",
       "      <th>0</th>\n",
       "      <td>40796</td>\n",
       "      <td>8</td>\n",
       "      <td>10</td>\n",
       "      <td>2</td>\n",
       "      <td>2</td>\n",
       "      <td>11</td>\n",
       "      <td>12</td>\n",
       "      <td>6</td>\n",
       "      <td>354</td>\n",
       "      <td>ST-354 complex</td>\n",
       "      <td>1</td>\n",
       "      <td>12</td>\n",
       "      <td>0.999920</td>\n",
       "    </tr>\n",
       "    <tr>\n",
       "      <th>1</th>\n",
       "      <td>63360</td>\n",
       "      <td>1</td>\n",
       "      <td>4</td>\n",
       "      <td>2</td>\n",
       "      <td>2</td>\n",
       "      <td>6</td>\n",
       "      <td>3</td>\n",
       "      <td>17</td>\n",
       "      <td>61</td>\n",
       "      <td>ST-61 complex</td>\n",
       "      <td>17</td>\n",
       "      <td>17</td>\n",
       "      <td>0.999917</td>\n",
       "    </tr>\n",
       "    <tr>\n",
       "      <th>2</th>\n",
       "      <td>39679</td>\n",
       "      <td>9</td>\n",
       "      <td>53</td>\n",
       "      <td>2</td>\n",
       "      <td>10</td>\n",
       "      <td>11</td>\n",
       "      <td>3</td>\n",
       "      <td>3</td>\n",
       "      <td>305</td>\n",
       "      <td>ST-574 complex</td>\n",
       "      <td>13</td>\n",
       "      <td>1</td>\n",
       "      <td>0.999164</td>\n",
       "    </tr>\n",
       "    <tr>\n",
       "      <th>3</th>\n",
       "      <td>21329</td>\n",
       "      <td>2</td>\n",
       "      <td>1</td>\n",
       "      <td>12</td>\n",
       "      <td>3</td>\n",
       "      <td>2</td>\n",
       "      <td>1</td>\n",
       "      <td>5</td>\n",
       "      <td>50</td>\n",
       "      <td>ST-21 complex</td>\n",
       "      <td>15</td>\n",
       "      <td>16</td>\n",
       "      <td>0.999651</td>\n",
       "    </tr>\n",
       "    <tr>\n",
       "      <th>4</th>\n",
       "      <td>42089</td>\n",
       "      <td>2</td>\n",
       "      <td>4</td>\n",
       "      <td>1</td>\n",
       "      <td>2</td>\n",
       "      <td>7</td>\n",
       "      <td>1</td>\n",
       "      <td>5</td>\n",
       "      <td>48</td>\n",
       "      <td>ST-48 complex</td>\n",
       "      <td>9</td>\n",
       "      <td>8</td>\n",
       "      <td>0.999958</td>\n",
       "    </tr>\n",
       "    <tr>\n",
       "      <th>...</th>\n",
       "      <td>...</td>\n",
       "      <td>...</td>\n",
       "      <td>...</td>\n",
       "      <td>...</td>\n",
       "      <td>...</td>\n",
       "      <td>...</td>\n",
       "      <td>...</td>\n",
       "      <td>...</td>\n",
       "      <td>...</td>\n",
       "      <td>...</td>\n",
       "      <td>...</td>\n",
       "      <td>...</td>\n",
       "      <td>...</td>\n",
       "    </tr>\n",
       "    <tr>\n",
       "      <th>2065</th>\n",
       "      <td>24611</td>\n",
       "      <td>4</td>\n",
       "      <td>7</td>\n",
       "      <td>10</td>\n",
       "      <td>4</td>\n",
       "      <td>1</td>\n",
       "      <td>7</td>\n",
       "      <td>1</td>\n",
       "      <td>45</td>\n",
       "      <td>ST-45 complex</td>\n",
       "      <td>7</td>\n",
       "      <td>4</td>\n",
       "      <td>0.999966</td>\n",
       "    </tr>\n",
       "    <tr>\n",
       "      <th>2066</th>\n",
       "      <td>63838</td>\n",
       "      <td>1</td>\n",
       "      <td>4</td>\n",
       "      <td>2</td>\n",
       "      <td>2</td>\n",
       "      <td>6</td>\n",
       "      <td>3</td>\n",
       "      <td>17</td>\n",
       "      <td>61</td>\n",
       "      <td>ST-61 complex</td>\n",
       "      <td>17</td>\n",
       "      <td>17</td>\n",
       "      <td>0.999917</td>\n",
       "    </tr>\n",
       "    <tr>\n",
       "      <th>2067</th>\n",
       "      <td>42097</td>\n",
       "      <td>2</td>\n",
       "      <td>4</td>\n",
       "      <td>1</td>\n",
       "      <td>2</td>\n",
       "      <td>7</td>\n",
       "      <td>1</td>\n",
       "      <td>5</td>\n",
       "      <td>48</td>\n",
       "      <td>ST-48 complex</td>\n",
       "      <td>9</td>\n",
       "      <td>8</td>\n",
       "      <td>0.999958</td>\n",
       "    </tr>\n",
       "    <tr>\n",
       "      <th>2068</th>\n",
       "      <td>63642</td>\n",
       "      <td>2</td>\n",
       "      <td>4</td>\n",
       "      <td>1</td>\n",
       "      <td>4</td>\n",
       "      <td>19</td>\n",
       "      <td>62</td>\n",
       "      <td>5</td>\n",
       "      <td>475</td>\n",
       "      <td>ST-48 complex</td>\n",
       "      <td>9</td>\n",
       "      <td>8</td>\n",
       "      <td>0.999340</td>\n",
       "    </tr>\n",
       "    <tr>\n",
       "      <th>2069</th>\n",
       "      <td>76646</td>\n",
       "      <td>4</td>\n",
       "      <td>7</td>\n",
       "      <td>12</td>\n",
       "      <td>4</td>\n",
       "      <td>42</td>\n",
       "      <td>51</td>\n",
       "      <td>1</td>\n",
       "      <td>383</td>\n",
       "      <td>ST-283 complex</td>\n",
       "      <td>7</td>\n",
       "      <td>4</td>\n",
       "      <td>0.999534</td>\n",
       "    </tr>\n",
       "  </tbody>\n",
       "</table>\n",
       "<p>1682 rows × 13 columns</p>\n",
       "</div>"
      ],
      "text/plain": [
       "      Unnamed: 0  aspA  glnA  gltA  glyA  pgm  tkt  uncA  ST (MLST)  \\\n",
       "0          40796     8    10     2     2   11   12     6        354   \n",
       "1          63360     1     4     2     2    6    3    17         61   \n",
       "2          39679     9    53     2    10   11    3     3        305   \n",
       "3          21329     2     1    12     3    2    1     5         50   \n",
       "4          42089     2     4     1     2    7    1     5         48   \n",
       "...          ...   ...   ...   ...   ...  ...  ...   ...        ...   \n",
       "2065       24611     4     7    10     4    1    7     1         45   \n",
       "2066       63838     1     4     2     2    6    3    17         61   \n",
       "2067       42097     2     4     1     2    7    1     5         48   \n",
       "2068       63642     2     4     1     4   19   62     5        475   \n",
       "2069       76646     4     7    12     4   42   51     1        383   \n",
       "\n",
       "     clonal_complex (MLST)  fullNG-20  prediction  predictionProb  \n",
       "0           ST-354 complex          1          12        0.999920  \n",
       "1            ST-61 complex         17          17        0.999917  \n",
       "2           ST-574 complex         13           1        0.999164  \n",
       "3            ST-21 complex         15          16        0.999651  \n",
       "4            ST-48 complex          9           8        0.999958  \n",
       "...                    ...        ...         ...             ...  \n",
       "2065         ST-45 complex          7           4        0.999966  \n",
       "2066         ST-61 complex         17          17        0.999917  \n",
       "2067         ST-48 complex          9           8        0.999958  \n",
       "2068         ST-48 complex          9           8        0.999340  \n",
       "2069        ST-283 complex          7           4        0.999534  \n",
       "\n",
       "[1682 rows x 13 columns]"
      ]
     },
     "execution_count": 21,
     "metadata": {},
     "output_type": "execute_result"
    }
   ],
   "source": [
    "sub"
   ]
  },
  {
   "cell_type": "code",
   "execution_count": 22,
   "metadata": {},
   "outputs": [
    {
     "data": {
      "text/plain": [
       "0.8950487855211441"
      ]
     },
     "execution_count": 22,
     "metadata": {},
     "output_type": "execute_result"
    }
   ],
   "source": [
    "adjusted_rand_score(X_testAll['prediction'], X_testAll[f'fullNG-{ngroup}'])"
   ]
  },
  {
   "cell_type": "code",
   "execution_count": 24,
   "metadata": {},
   "outputs": [
    {
     "ename": "NameError",
     "evalue": "name 'labelledData' is not defined",
     "output_type": "error",
     "traceback": [
      "\u001b[0;31m---------------------------------------------------------------------------\u001b[0m",
      "\u001b[0;31mNameError\u001b[0m                                 Traceback (most recent call last)",
      "\u001b[0;32m<ipython-input-24-5e0d4d2072ff>\u001b[0m in \u001b[0;36m<module>\u001b[0;34m\u001b[0m\n\u001b[0;32m----> 1\u001b[0;31m \u001b[0mlabelledData\u001b[0m\u001b[0;34m[\u001b[0m\u001b[0;34m'Prediction_Catboost'\u001b[0m\u001b[0;34m]\u001b[0m \u001b[0;34m=\u001b[0m \u001b[0mmodel\u001b[0m\u001b[0;34m.\u001b[0m\u001b[0mpredict\u001b[0m\u001b[0;34m(\u001b[0m\u001b[0mlabelledData\u001b[0m\u001b[0;34m)\u001b[0m\u001b[0;34m\u001b[0m\u001b[0;34m\u001b[0m\u001b[0m\n\u001b[0m\u001b[1;32m      2\u001b[0m \u001b[0mlabelledData\u001b[0m\u001b[0;34m.\u001b[0m\u001b[0mto_excel\u001b[0m\u001b[0;34m(\u001b[0m\u001b[0;34m\"labelledCatBoost_NG20.xlsx\"\u001b[0m\u001b[0;34m)\u001b[0m\u001b[0;34m\u001b[0m\u001b[0;34m\u001b[0m\u001b[0m\n",
      "\u001b[0;31mNameError\u001b[0m: name 'labelledData' is not defined"
     ]
    }
   ],
   "source": [
    "labelledData['Prediction_Catboost'] = model.predict(abelledData[cols])\n",
    "labelledData.to_excel(\"labelledCatBoost_NG20.xlsx\") "
   ]
  },
  {
   "cell_type": "code",
   "execution_count": null,
   "metadata": {},
   "outputs": [],
   "source": [
    "#Opening the model file \n",
    "model = pd.read_pickle(r'model.sav')"
   ]
  },
  {
   "cell_type": "code",
   "execution_count": null,
   "metadata": {},
   "outputs": [],
   "source": [
    "predicted_test = model.predict(X_test)"
   ]
  },
  {
   "cell_type": "code",
   "execution_count": null,
   "metadata": {},
   "outputs": [],
   "source": [
    "adjusted_rand_score(y_test,predicted_test.flatten())"
   ]
  },
  {
   "cell_type": "code",
   "execution_count": null,
   "metadata": {},
   "outputs": [],
   "source": [
    "labelledData = pd.read_excel(\"labelledCatBoost_NG20.xlsx\")\n",
    "# How accurately does the prediction match the tree?"
   ]
  },
  {
   "cell_type": "code",
   "execution_count": null,
   "metadata": {},
   "outputs": [],
   "source": [
    "labelledData.head()"
   ]
  },
  {
   "cell_type": "code",
   "execution_count": null,
   "metadata": {},
   "outputs": [],
   "source": [
    "# How accurately does the CC label match the tree?\n",
    "adjusted_rand_score(labelledData['clonal_complex (MLST)'], labelledData['Group'])"
   ]
  },
  {
   "cell_type": "code",
   "execution_count": null,
   "metadata": {},
   "outputs": [],
   "source": [
    "# How accurately does the CC label match the tree?\n",
    "adjusted_rand_score(y_pred.flatten(), y_test)"
   ]
  },
  {
   "cell_type": "code",
   "execution_count": null,
   "metadata": {},
   "outputs": [],
   "source": [
    "#This saved the model into pickle file \n",
    "#filename = 'model.sav'\n",
    "#pickle.dump(model, open(filename, 'wb'))"
   ]
  },
  {
   "cell_type": "code",
   "execution_count": null,
   "metadata": {},
   "outputs": [],
   "source": [
    "with open('model.sav', 'rb') as file:\n",
    "      \n",
    "    # Call load method to deserialze\n",
    "    model = pickle.load(file)\n"
   ]
  },
  {
   "cell_type": "code",
   "execution_count": null,
   "metadata": {},
   "outputs": [],
   "source": [
    "labelledData.groupby('Prediction_Catboost')['clonal_complex (MLST)'].agg(pd.Series.mode)"
   ]
  },
  {
   "cell_type": "code",
   "execution_count": null,
   "metadata": {},
   "outputs": [],
   "source": [
    "labelledData[labelledData['Prediction_Catboost'] == '8']"
   ]
  },
  {
   "cell_type": "code",
   "execution_count": null,
   "metadata": {},
   "outputs": [],
   "source": [
    "labelledData['Group'].unique()"
   ]
  },
  {
   "cell_type": "code",
   "execution_count": null,
   "metadata": {},
   "outputs": [],
   "source": [
    "len(labelledData['Prediction_Catboost'].unique())"
   ]
  },
  {
   "cell_type": "code",
   "execution_count": null,
   "metadata": {},
   "outputs": [],
   "source": []
  }
 ],
 "metadata": {
  "kernelspec": {
   "display_name": "Python 3",
   "language": "python",
   "name": "python3"
  },
  "language_info": {
   "codemirror_mode": {
    "name": "ipython",
    "version": 3
   },
   "file_extension": ".py",
   "mimetype": "text/x-python",
   "name": "python",
   "nbconvert_exporter": "python",
   "pygments_lexer": "ipython3",
   "version": "3.8.3"
  }
 },
 "nbformat": 4,
 "nbformat_minor": 5
}
