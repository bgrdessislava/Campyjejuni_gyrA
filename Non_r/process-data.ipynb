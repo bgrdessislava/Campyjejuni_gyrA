{
 "cells": [
  {
   "cell_type": "code",
   "execution_count": 1,
   "metadata": {},
   "outputs": [],
   "source": [
    "import numpy as np\n",
    "import pandas as pd\n",
    "import seaborn as sns\n",
    "import matplotlib.pyplot as plt\n",
    "from matplotlib_venn import venn2\n",
    "from collections import defaultdict\n",
    "from scipy.stats import chi2_contingency"
   ]
  },
  {
   "cell_type": "code",
   "execution_count": 2,
   "metadata": {},
   "outputs": [
    {
     "ename": "FileNotFoundError",
     "evalue": "[Errno 2] No such file or directory: '14000_gryA_protein.aln.fasta'",
     "output_type": "error",
     "traceback": [
      "\u001b[0;31m---------------------------------------------------------------------------\u001b[0m",
      "\u001b[0;31mFileNotFoundError\u001b[0m                         Traceback (most recent call last)",
      "\u001b[0;32m<ipython-input-2-323067739809>\u001b[0m in \u001b[0;36m<module>\u001b[0;34m\u001b[0m\n\u001b[1;32m      8\u001b[0m \u001b[0;34m\u001b[0m\u001b[0m\n\u001b[1;32m      9\u001b[0m \u001b[0mgryA\u001b[0m \u001b[0;34m=\u001b[0m \u001b[0mdefaultdict\u001b[0m\u001b[0;34m(\u001b[0m\u001b[0mstr\u001b[0m\u001b[0;34m)\u001b[0m\u001b[0;34m\u001b[0m\u001b[0;34m\u001b[0m\u001b[0m\n\u001b[0;32m---> 10\u001b[0;31m \u001b[0;32mwith\u001b[0m \u001b[0mopen\u001b[0m\u001b[0;34m(\u001b[0m\u001b[0;34m'14000_gryA_protein.aln.fasta'\u001b[0m\u001b[0;34m)\u001b[0m \u001b[0;32mas\u001b[0m \u001b[0mfh\u001b[0m\u001b[0;34m:\u001b[0m\u001b[0;34m\u001b[0m\u001b[0;34m\u001b[0m\u001b[0m\n\u001b[0m\u001b[1;32m     11\u001b[0m     \u001b[0;32mfor\u001b[0m \u001b[0mline\u001b[0m \u001b[0;32min\u001b[0m \u001b[0mfh\u001b[0m\u001b[0;34m:\u001b[0m\u001b[0;34m\u001b[0m\u001b[0;34m\u001b[0m\u001b[0m\n\u001b[1;32m     12\u001b[0m         \u001b[0mline\u001b[0m \u001b[0;34m=\u001b[0m \u001b[0mline\u001b[0m\u001b[0;34m.\u001b[0m\u001b[0mstrip\u001b[0m\u001b[0;34m(\u001b[0m\u001b[0;34m)\u001b[0m\u001b[0;34m\u001b[0m\u001b[0;34m\u001b[0m\u001b[0m\n",
      "\u001b[0;31mFileNotFoundError\u001b[0m: [Errno 2] No such file or directory: '14000_gryA_protein.aln.fasta'"
     ]
    }
   ],
   "source": [
    "def setFluoroStatus(x):\n",
    "    if x == 'T':\n",
    "        return 'Susceptible'\n",
    "    elif x == 'I':\n",
    "        return 'Resistant'\n",
    "    else:\n",
    "        return np.nan\n",
    "    \n",
    "gryA = defaultdict(str)\n",
    "with open('14000_gryA_protein.aln.fasta') as fh:\n",
    "    for line in fh:\n",
    "        line = line.strip()\n",
    "        if line.startswith('>'):\n",
    "            name = line[1:-2]\n",
    "        else:\n",
    "            gryA[int(name)] += line\n",
    "gryA = pd.Series(gryA).to_frame().rename({0: 'sequence'}, axis=1)\n",
    "gryA.index.name = 'id'\n",
    "\n",
    "gryA['Thr86Ile'] = gryA['sequence'].apply(lambda x: x[85])\n",
    "gryA['Fluoroquinolone'] = gryA['Thr86Ile'].apply(setFluoroStatus)"
   ]
  },
  {
   "cell_type": "code",
   "execution_count": null,
   "metadata": {},
   "outputs": [],
   "source": [
    "tet_resistant = pd.read_csv('Tet0Gene_isolates_presence.txt', sep='\\t')['id']"
   ]
  },
  {
   "cell_type": "code",
   "execution_count": null,
   "metadata": {},
   "outputs": [],
   "source": [
    "data = pd.read_csv('BIGSdb_1398733_6457475283_16760.ngroups.csv').set_index('id')\n",
    "data['Fluoroquinolone'] = gryA['Fluoroquinolone']\n",
    "data['Tetracycline'] = data.index.isin(tet_resistant)\n",
    "data['Tetracycline'] = data['Tetracycline'].apply(lambda x: 'Resistant' if x else 'Susceptible')\n",
    "\n",
    "no_status = data[['Tetracycline', 'Fluoroquinolone']].notna().all(axis=1)\n",
    "data = data.loc[no_status].copy()\n",
    "\n",
    "def setBothStatus(x):\n",
    "    if x['Fluoroquinolone'] == 'Resistant':\n",
    "        status = 'Fr:'\n",
    "    elif x['Fluoroquinolone'] == 'Susceptible':\n",
    "        status = 'Fs:'\n",
    "    else:\n",
    "        status = 'F0:'\n",
    "    if x['Tetracycline'] == 'Resistant':\n",
    "        status += 'Tr'\n",
    "    elif x['Tetracycline'] == 'Susceptible':\n",
    "        status += 'Ts'\n",
    "    else:\n",
    "        status += 'T0'\n",
    "    return status\n",
    "\n",
    "data['Status'] = data.apply(setBothStatus, axis=1)"
   ]
  },
  {
   "cell_type": "code",
   "execution_count": null,
   "metadata": {},
   "outputs": [],
   "source": [
    "drop = ([\n",
    "    'aspA', 'glnA', 'gltA', 'glyA', 'pgm', 'tkt', 'uncA',\n",
    "    'isolate', 'aliases', 'ST (MLST)', 'clonal_complex (MLST)',\n",
    "    'penner', 'datestamp', 'isolation_date', 'received_date',\n",
    "    'age_yr', 'age_mth', 'species', 'country', 'continent',\n",
    "    'bioproject_accession', 'biosample_accession', 'ENA_run_accession',\n",
    "    'private_project', 'comments', 'sender', 'curator', 'date_entered',\n",
    "])\n",
    "metadata = pd.read_csv('BIGSdb_1443529_1958928786_17262.txt', sep='\\t').set_index('id').drop(drop, axis=1)"
   ]
  },
  {
   "cell_type": "code",
   "execution_count": null,
   "metadata": {},
   "outputs": [],
   "source": [
    "data = pd.merge(data, metadata, left_index=True, right_index=True)\n",
    "data['source'] = data['source'].fillna('Unknown')"
   ]
  },
  {
   "cell_type": "code",
   "execution_count": null,
   "metadata": {},
   "outputs": [],
   "source": [
    "data.groupby('source').apply(lambda x: (x['Fluoroquinolone'] == 'Resistant').sum() / len(x) ).sort_values()"
   ]
  },
  {
   "cell_type": "code",
   "execution_count": null,
   "metadata": {},
   "outputs": [],
   "source": [
    "a = data.loc[data['source'] == 'chicken', ['Fluoroquinolone', 'year']]\n",
    "a['Fluoroquinolone'] = a['Fluoroquinolone'] == 'Resistant'\n",
    "a = a.groupby('year').apply(lambda x: x['Fluoroquinolone'].sum() / len(x)).reset_index().sort_values('year')\n",
    "\n",
    "fig, ax = plt.subplots()\n",
    "sns.lineplot(data=a, x='year', y=0)"
   ]
  },
  {
   "cell_type": "code",
   "execution_count": null,
   "metadata": {},
   "outputs": [],
   "source": [
    "classification = 'year'\n",
    "all_tests = []\n",
    "z_scores = []\n",
    "prop = []\n",
    "n_reps = 10_000\n",
    "# Get total isolates per NGroup\n",
    "group_size = data.groupby(classification).size().rename('n')\n",
    "# NGroups with good sample size\n",
    "valid_ng = group_size[group_size > 100].index\n",
    "for group in ['Both', 'Fluoroquinolone', 'Tetracycline', 'Neither']:\n",
    "    \n",
    "    if group == 'Both':\n",
    "        data['ref'] = (data['Fluoroquinolone'] == 'Resistant') & (data['Tetracycline'] == 'Resistant')\n",
    "    elif group == 'Fluoroquinolone':\n",
    "        data['ref'] = (data['Fluoroquinolone'] == 'Resistant') & (data['Tetracycline'] == 'Susceptible')\n",
    "    elif group == 'Tetracycline':\n",
    "        data['ref'] = (data['Tetracycline'] == 'Resistant') & (data['Fluoroquinolone'] == 'Susceptible')\n",
    "    elif group == 'Neither':\n",
    "        data['ref'] = (data['Fluoroquinolone'] == 'Susceptible') & (data['Tetracycline'] == 'Susceptible')\n",
    "    else:\n",
    "        continue\n",
    "\n",
    "    shuffles = []\n",
    "    for i in range(n_reps):\n",
    "        data['random'] = data['ref'].sample(frac=1).values\n",
    "        shuffles.append(data.groupby(classification)['random'].sum().rename(i))\n",
    "    shuffles = pd.concat(shuffles, axis=1)\n",
    "\n",
    "    scores = pd.concat([\n",
    "        group_size,\n",
    "        data.groupby(classification)['ref'].sum().rename('obs'),\n",
    "        shuffles.mean(axis=1).rename('mean'),\n",
    "        shuffles.std(axis=1).rename('std')\n",
    "    ], axis=1)\n",
    "    scores['z'] = (scores['obs'] - scores['mean']) / scores['std']\n",
    "    scores['prop'] = scores['obs'] / scores['n']\n",
    "    scores['group'] = group\n",
    "    \n",
    "    all_tests.append(scores)\n",
    "    z_scores.append(scores['z'].rename(group))\n",
    "    prop.append(scores['prop'].rename(group))\n",
    "    \n",
    "all_tests = pd.concat(all_tests)\n",
    "z_scores = pd.concat(z_scores, axis=1)\n",
    "prop = pd.concat(prop, axis=1)"
   ]
  },
  {
   "cell_type": "code",
   "execution_count": null,
   "metadata": {},
   "outputs": [],
   "source": [
    "valid = z_scores.index.isin(valid_ng)\n",
    "sub = z_scores.loc[valid].sort_values('Both', ascending=False)\n",
    "\n",
    "fig, ax = plt.subplots(figsize=(16, 9))\n",
    "sns.heatmap(data=sub, cmap='bwr', center=0, ax=ax)\n",
    "ax.set_xlabel('Resistance')\n",
    "ax.set_ylabel('Neighbour Group')\n",
    "fig.savefig('ResistanceStatus-z.svg')"
   ]
  },
  {
   "cell_type": "code",
   "execution_count": null,
   "metadata": {},
   "outputs": [],
   "source": []
  },
  {
   "cell_type": "code",
   "execution_count": null,
   "metadata": {},
   "outputs": [],
   "source": [
    "valid = z_scores.index.isin(valid_ng)\n",
    "sub = z_scores.loc[valid].sort_values('Both', ascending=False)\n",
    "\n",
    "fig, ax = plt.subplots(figsize=(16, 9))\n",
    "sns.heatmap(data=sub, cmap='bwr', center=0, ax=ax)\n",
    "ax.set_xlabel('Resistance')\n",
    "ax.set_ylabel('Neighbour Group')\n",
    "fig.savefig('ResistanceStatus-z.svg')"
   ]
  },
  {
   "cell_type": "code",
   "execution_count": null,
   "metadata": {},
   "outputs": [],
   "source": [
    "valid = prop.index.isin(valid_ng)\n",
    "sub = prop.loc[valid].sort_values('Both', ascending=False)\n",
    "\n",
    "fig, ax = plt.subplots(figsize=(16, 9))\n",
    "sns.heatmap(data=sub, cmap='Reds', ax=ax)\n",
    "ax.set_xlabel('Resistance')\n",
    "ax.set_ylabel('Neighbour Group')\n",
    "fig.savefig('ResistanceStatus-prop.svg')"
   ]
  },
  {
   "cell_type": "code",
   "execution_count": null,
   "metadata": {},
   "outputs": [],
   "source": [
    "def makeCountTable(data, NG):\n",
    "    counts = (\n",
    "        data.loc[data['NG'] == NG].groupby('year')['Status']\n",
    "        .value_counts()\n",
    "        .rename('count')\n",
    "        .reset_index()\n",
    "        .pivot(index='Status', columns='year')\n",
    "        .fillna(0)\n",
    "        .droplevel(0, axis=1)\n",
    "        .reset_index()\n",
    "        .melt(id_vars='Status')\n",
    "    )\n",
    "    return counts"
   ]
  },
  {
   "cell_type": "code",
   "execution_count": null,
   "metadata": {},
   "outputs": [],
   "source": [
    "NG = 8\n",
    "\n",
    "fig, ax = plt.subplots()\n",
    "sns.lineplot(data=makeCountTable(data, NG), x='year', y='value', hue='Status')\n",
    "ax.set_title(f'NG{NG}', loc='left')\n",
    "ax.set_xlabel('Year')\n",
    "ax.set_ylabel('Isolates')"
   ]
  },
  {
   "cell_type": "code",
   "execution_count": null,
   "metadata": {},
   "outputs": [],
   "source": []
  }
 ],
 "metadata": {
  "kernelspec": {
   "display_name": "Python 3",
   "language": "python",
   "name": "python3"
  },
  "language_info": {
   "codemirror_mode": {
    "name": "ipython",
    "version": 3
   },
   "file_extension": ".py",
   "mimetype": "text/x-python",
   "name": "python",
   "nbconvert_exporter": "python",
   "pygments_lexer": "ipython3",
   "version": "3.8.3"
  }
 },
 "nbformat": 4,
 "nbformat_minor": 5
}
