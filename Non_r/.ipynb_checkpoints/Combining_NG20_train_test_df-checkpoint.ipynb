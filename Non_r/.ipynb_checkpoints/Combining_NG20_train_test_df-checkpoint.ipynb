{
 "cells": [
  {
   "cell_type": "code",
   "execution_count": 3,
   "metadata": {},
   "outputs": [],
   "source": [
    "import pandas as pd\n",
    "import pickle"
   ]
  },
  {
   "cell_type": "code",
   "execution_count": 4,
   "metadata": {},
   "outputs": [
    {
     "data": {
      "text/plain": [
       "'/Users/user/Library/CloudStorage/OneDrive-Nexus365/PhD/Campy_Analysis_ALL/Code/Non_r'"
      ]
     },
     "execution_count": 4,
     "metadata": {},
     "output_type": "execute_result"
    }
   ],
   "source": [
    "pwd"
   ]
  },
  {
   "cell_type": "code",
   "execution_count": 5,
   "metadata": {},
   "outputs": [],
   "source": [
    "df_train = pd.read_excel('../../Data/X_train_20.xlsx')\n",
    "df_test = pd.read_excel('../../Data/X_test_20.xlsx')"
   ]
  },
  {
   "cell_type": "code",
   "execution_count": 17,
   "metadata": {},
   "outputs": [],
   "source": [
    "df = pd.concat([df_train,df_test]).rename({'Unnamed: 0':'id'}, axis=1)"
   ]
  },
  {
   "cell_type": "code",
   "execution_count": 18,
   "metadata": {},
   "outputs": [],
   "source": [
    "# load the model from disk\n",
    "filename = '../../Data/aspA-glnA-gltA-glyA-pgm-tkt-uncA-trained.pkl'\n",
    "with open(filename, 'rb') as fh:\n",
    "    model = pickle.load(fh)"
   ]
  },
  {
   "cell_type": "code",
   "execution_count": 19,
   "metadata": {},
   "outputs": [],
   "source": [
    "col_names = ['aspA','glnA','gltA','glyA','pgm','tkt','uncA']\n",
    "df['prediction'] = model.predict(df[col_names])"
   ]
  },
  {
   "cell_type": "code",
   "execution_count": 23,
   "metadata": {},
   "outputs": [],
   "source": [
    "df.to_csv('../../Data/10359_train_test_combined.csv')"
   ]
  },
  {
   "cell_type": "code",
   "execution_count": 22,
   "metadata": {},
   "outputs": [
    {
     "data": {
      "text/html": [
       "<div>\n",
       "<style scoped>\n",
       "    .dataframe tbody tr th:only-of-type {\n",
       "        vertical-align: middle;\n",
       "    }\n",
       "\n",
       "    .dataframe tbody tr th {\n",
       "        vertical-align: top;\n",
       "    }\n",
       "\n",
       "    .dataframe thead th {\n",
       "        text-align: right;\n",
       "    }\n",
       "</style>\n",
       "<table border=\"1\" class=\"dataframe\">\n",
       "  <thead>\n",
       "    <tr style=\"text-align: right;\">\n",
       "      <th></th>\n",
       "      <th>id</th>\n",
       "      <th>aspA</th>\n",
       "      <th>glnA</th>\n",
       "      <th>gltA</th>\n",
       "      <th>glyA</th>\n",
       "      <th>pgm</th>\n",
       "      <th>tkt</th>\n",
       "      <th>uncA</th>\n",
       "      <th>ST (MLST)</th>\n",
       "      <th>clonal_complex (MLST)</th>\n",
       "      <th>fullNG-20</th>\n",
       "      <th>trainNG-20</th>\n",
       "      <th>prediction</th>\n",
       "    </tr>\n",
       "  </thead>\n",
       "  <tbody>\n",
       "    <tr>\n",
       "      <th>0</th>\n",
       "      <td>24767</td>\n",
       "      <td>2</td>\n",
       "      <td>1</td>\n",
       "      <td>1</td>\n",
       "      <td>3</td>\n",
       "      <td>2</td>\n",
       "      <td>1</td>\n",
       "      <td>5</td>\n",
       "      <td>21</td>\n",
       "      <td>ST-21 complex</td>\n",
       "      <td>16</td>\n",
       "      <td>18.0</td>\n",
       "      <td>18</td>\n",
       "    </tr>\n",
       "    <tr>\n",
       "      <th>1</th>\n",
       "      <td>50163</td>\n",
       "      <td>1</td>\n",
       "      <td>2</td>\n",
       "      <td>3</td>\n",
       "      <td>4</td>\n",
       "      <td>5</td>\n",
       "      <td>9</td>\n",
       "      <td>3</td>\n",
       "      <td>42</td>\n",
       "      <td>ST-42 complex</td>\n",
       "      <td>14</td>\n",
       "      <td>15.0</td>\n",
       "      <td>15</td>\n",
       "    </tr>\n",
       "    <tr>\n",
       "      <th>2</th>\n",
       "      <td>25086</td>\n",
       "      <td>7</td>\n",
       "      <td>17</td>\n",
       "      <td>2</td>\n",
       "      <td>15</td>\n",
       "      <td>23</td>\n",
       "      <td>3</td>\n",
       "      <td>12</td>\n",
       "      <td>51</td>\n",
       "      <td>ST-443 complex</td>\n",
       "      <td>13</td>\n",
       "      <td>2.0</td>\n",
       "      <td>2</td>\n",
       "    </tr>\n",
       "    <tr>\n",
       "      <th>3</th>\n",
       "      <td>24051</td>\n",
       "      <td>9</td>\n",
       "      <td>2</td>\n",
       "      <td>4</td>\n",
       "      <td>62</td>\n",
       "      <td>4</td>\n",
       "      <td>133</td>\n",
       "      <td>6</td>\n",
       "      <td>990</td>\n",
       "      <td>ST-257 complex</td>\n",
       "      <td>6</td>\n",
       "      <td>10.0</td>\n",
       "      <td>10</td>\n",
       "    </tr>\n",
       "    <tr>\n",
       "      <th>4</th>\n",
       "      <td>18376</td>\n",
       "      <td>4</td>\n",
       "      <td>7</td>\n",
       "      <td>10</td>\n",
       "      <td>4</td>\n",
       "      <td>42</td>\n",
       "      <td>51</td>\n",
       "      <td>1</td>\n",
       "      <td>583</td>\n",
       "      <td>ST-45 complex</td>\n",
       "      <td>7</td>\n",
       "      <td>4.0</td>\n",
       "      <td>4</td>\n",
       "    </tr>\n",
       "  </tbody>\n",
       "</table>\n",
       "</div>"
      ],
      "text/plain": [
       "      id  aspA  glnA  gltA  glyA  pgm  tkt  uncA  ST (MLST)  \\\n",
       "0  24767     2     1     1     3    2    1     5         21   \n",
       "1  50163     1     2     3     4    5    9     3         42   \n",
       "2  25086     7    17     2    15   23    3    12         51   \n",
       "3  24051     9     2     4    62    4  133     6        990   \n",
       "4  18376     4     7    10     4   42   51     1        583   \n",
       "\n",
       "  clonal_complex (MLST)  fullNG-20  trainNG-20  prediction  \n",
       "0         ST-21 complex         16        18.0          18  \n",
       "1         ST-42 complex         14        15.0          15  \n",
       "2        ST-443 complex         13         2.0           2  \n",
       "3        ST-257 complex          6        10.0          10  \n",
       "4         ST-45 complex          7         4.0           4  "
      ]
     },
     "execution_count": 22,
     "metadata": {},
     "output_type": "execute_result"
    }
   ],
   "source": [
    "df.head()"
   ]
  },
  {
   "cell_type": "code",
   "execution_count": null,
   "metadata": {},
   "outputs": [],
   "source": []
  }
 ],
 "metadata": {
  "kernelspec": {
   "display_name": "Python 3",
   "language": "python",
   "name": "python3"
  },
  "language_info": {
   "codemirror_mode": {
    "name": "ipython",
    "version": 3
   },
   "file_extension": ".py",
   "mimetype": "text/x-python",
   "name": "python",
   "nbconvert_exporter": "python",
   "pygments_lexer": "ipython3",
   "version": "3.8.3"
  }
 },
 "nbformat": 4,
 "nbformat_minor": 4
}
