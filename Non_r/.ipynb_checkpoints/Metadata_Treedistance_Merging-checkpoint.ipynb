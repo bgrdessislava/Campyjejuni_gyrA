{
 "cells": [
  {
   "cell_type": "code",
   "execution_count": 38,
   "metadata": {},
   "outputs": [],
   "source": [
    "import pandas as pd\n",
    "import numpy as np\n",
    "import seaborn as sns\n",
    "import matplotlib.pyplot as plt"
   ]
  },
  {
   "cell_type": "code",
   "execution_count": 3,
   "metadata": {},
   "outputs": [],
   "source": [
    "metadata = pd.read_excel('../../Data/Manuscript_DessislavaVeltcheva_Dataframe.xlsx').set_index('id')\n",
    "metadata['resistance'] = metadata['IT_to_RS_conversion'] == 'R'"
   ]
  },
  {
   "cell_type": "code",
   "execution_count": 3,
   "metadata": {},
   "outputs": [],
   "source": [
    "matrix = pd.DataFrame(np.load(\"../../Data/13672_analysis/Average_matrix.npy\"))"
   ]
  },
  {
   "cell_type": "code",
   "execution_count": 15,
   "metadata": {},
   "outputs": [],
   "source": [
    "with open('../../Data/13672_analysis/tree_label.txt') as fh:\n",
    "    labels = fh.readline()\n",
    "    labels = fh.readline()\n",
    "allLabels = []\n",
    "for label in labels.split(','):\n",
    "    x = label.strip('\"[] \\'\\n')\n",
    "    allLabels.append(int(x))"
   ]
  },
  {
   "cell_type": "code",
   "execution_count": 16,
   "metadata": {},
   "outputs": [],
   "source": [
    "matrix.columns = allLabels\n",
    "matrix.index = allLabels"
   ]
  },
  {
   "cell_type": "code",
   "execution_count": 17,
   "metadata": {},
   "outputs": [],
   "source": [
    "matrix = (\n",
    "    matrix.reset_index().rename({'index': 'ID1'}, axis=1)\n",
    "    .melt(id_vars='ID1')\n",
    "    .rename({'variable': 'ID2', 'value': 'branchLength'}, axis=1)\n",
    ")"
   ]
  },
  {
   "cell_type": "code",
   "execution_count": 49,
   "metadata": {},
   "outputs": [],
   "source": [
    "matrix = matrix.loc[matrix['ID1'] < matrix['ID2']]"
   ]
  },
  {
   "cell_type": "code",
   "execution_count": 50,
   "metadata": {},
   "outputs": [],
   "source": [
    "mergeCols = ['resistance', 'clonal_complex..MLST.']"
   ]
  },
  {
   "cell_type": "code",
   "execution_count": 51,
   "metadata": {},
   "outputs": [],
   "source": [
    "matrix = (\n",
    "    pd.merge(matrix, metadata[mergeCols],left_on='ID1', right_index=True)\n",
    "    .rename({'resistance': 'ID1resistance', 'clonal_complex..MLST.': 'ID1cc'}, axis=1)\n",
    ")"
   ]
  },
  {
   "cell_type": "code",
   "execution_count": 56,
   "metadata": {},
   "outputs": [],
   "source": [
    "matrix = (\n",
    "    pd.merge(matrix, metadata[mergeCols],left_on='ID2', right_index=True)\n",
    "    .rename({'resistance': 'ID2resistance', 'clonal_complex..MLST.': 'ID2cc'}, axis=1)\n",
    ")"
   ]
  },
  {
   "cell_type": "code",
   "execution_count": 57,
   "metadata": {},
   "outputs": [],
   "source": [
    "matrix['sumResistance'] = matrix[['ID1resistance', 'ID2resistance']].sum(axis=1)"
   ]
  },
  {
   "cell_type": "code",
   "execution_count": 65,
   "metadata": {},
   "outputs": [],
   "source": [
    "matrix['sameCC'] = matrix['ID1cc'] == matrix['ID2cc']"
   ]
  },
  {
   "cell_type": "code",
   "execution_count": 76,
   "metadata": {},
   "outputs": [],
   "source": [
    "matrix.to_pickle('matrix_res_comparison.pkl')"
   ]
  },
  {
   "cell_type": "code",
   "execution_count": 70,
   "metadata": {},
   "outputs": [],
   "source": [
    "g = matrix.loc[matrix['sameCC']].groupby(['ID1cc', 'sumResistance'])['branchLength'].mean().reset_index()"
   ]
  },
  {
   "cell_type": "code",
   "execution_count": 4,
   "metadata": {},
   "outputs": [],
   "source": [
    "matrix = pd.read_pickle('matrix_res_comparison.pkl')"
   ]
  },
  {
   "cell_type": "code",
   "execution_count": 130,
   "metadata": {},
   "outputs": [],
   "source": [
    "def setLabel(x):\n",
    "    if x == 2:\n",
    "        return 'Resistant'\n",
    "    elif x == 0:\n",
    "        return 'Susceptible'\n",
    "    else:\n",
    "        return 'Susceptible / Resistant'\n",
    "matrix['status'] = matrix['sumResistance'].apply(setLabel)"
   ]
  },
  {
   "cell_type": "code",
   "execution_count": 16,
   "metadata": {},
   "outputs": [],
   "source": [
    "matrix_small = matrix[[\"ID1cc\",\"ID2cc\",\"sumResistance\",\"sameCC\"]]"
   ]
  },
  {
   "cell_type": "code",
   "execution_count": 17,
   "metadata": {},
   "outputs": [
    {
     "data": {
      "text/html": [
       "<div>\n",
       "<style scoped>\n",
       "    .dataframe tbody tr th:only-of-type {\n",
       "        vertical-align: middle;\n",
       "    }\n",
       "\n",
       "    .dataframe tbody tr th {\n",
       "        vertical-align: top;\n",
       "    }\n",
       "\n",
       "    .dataframe thead th {\n",
       "        text-align: right;\n",
       "    }\n",
       "</style>\n",
       "<table border=\"1\" class=\"dataframe\">\n",
       "  <thead>\n",
       "    <tr style=\"text-align: right;\">\n",
       "      <th></th>\n",
       "      <th>ID1cc</th>\n",
       "      <th>ID2cc</th>\n",
       "      <th>sumResistance</th>\n",
       "      <th>sameCC</th>\n",
       "    </tr>\n",
       "  </thead>\n",
       "  <tbody>\n",
       "    <tr>\n",
       "      <th>2124</th>\n",
       "      <td>ST-48 complex</td>\n",
       "      <td>NaN</td>\n",
       "      <td>1</td>\n",
       "      <td>False</td>\n",
       "    </tr>\n",
       "    <tr>\n",
       "      <th>2125</th>\n",
       "      <td>ST-353 complex</td>\n",
       "      <td>NaN</td>\n",
       "      <td>1</td>\n",
       "      <td>False</td>\n",
       "    </tr>\n",
       "    <tr>\n",
       "      <th>2126</th>\n",
       "      <td>ST-21 complex</td>\n",
       "      <td>NaN</td>\n",
       "      <td>0</td>\n",
       "      <td>False</td>\n",
       "    </tr>\n",
       "    <tr>\n",
       "      <th>2127</th>\n",
       "      <td>ST-354 complex</td>\n",
       "      <td>NaN</td>\n",
       "      <td>1</td>\n",
       "      <td>False</td>\n",
       "    </tr>\n",
       "    <tr>\n",
       "      <th>9760</th>\n",
       "      <td>ST-21 complex</td>\n",
       "      <td>NaN</td>\n",
       "      <td>1</td>\n",
       "      <td>False</td>\n",
       "    </tr>\n",
       "    <tr>\n",
       "      <th>...</th>\n",
       "      <td>...</td>\n",
       "      <td>...</td>\n",
       "      <td>...</td>\n",
       "      <td>...</td>\n",
       "    </tr>\n",
       "    <tr>\n",
       "      <th>160507342</th>\n",
       "      <td>ST-446 complex</td>\n",
       "      <td>ST-658 complex</td>\n",
       "      <td>1</td>\n",
       "      <td>False</td>\n",
       "    </tr>\n",
       "    <tr>\n",
       "      <th>160507343</th>\n",
       "      <td>ST-21 complex</td>\n",
       "      <td>ST-658 complex</td>\n",
       "      <td>1</td>\n",
       "      <td>False</td>\n",
       "    </tr>\n",
       "    <tr>\n",
       "      <th>160507344</th>\n",
       "      <td>ST-607 complex</td>\n",
       "      <td>ST-658 complex</td>\n",
       "      <td>1</td>\n",
       "      <td>False</td>\n",
       "    </tr>\n",
       "    <tr>\n",
       "      <th>160507345</th>\n",
       "      <td>ST-21 complex</td>\n",
       "      <td>ST-658 complex</td>\n",
       "      <td>2</td>\n",
       "      <td>False</td>\n",
       "    </tr>\n",
       "    <tr>\n",
       "      <th>160507346</th>\n",
       "      <td>ST-21 complex</td>\n",
       "      <td>ST-658 complex</td>\n",
       "      <td>2</td>\n",
       "      <td>False</td>\n",
       "    </tr>\n",
       "  </tbody>\n",
       "</table>\n",
       "<p>53669980 rows × 4 columns</p>\n",
       "</div>"
      ],
      "text/plain": [
       "                    ID1cc           ID2cc  sumResistance  sameCC\n",
       "2124        ST-48 complex             NaN              1   False\n",
       "2125       ST-353 complex             NaN              1   False\n",
       "2126        ST-21 complex             NaN              0   False\n",
       "2127       ST-354 complex             NaN              1   False\n",
       "9760        ST-21 complex             NaN              1   False\n",
       "...                   ...             ...            ...     ...\n",
       "160507342  ST-446 complex  ST-658 complex              1   False\n",
       "160507343   ST-21 complex  ST-658 complex              1   False\n",
       "160507344  ST-607 complex  ST-658 complex              1   False\n",
       "160507345   ST-21 complex  ST-658 complex              2   False\n",
       "160507346   ST-21 complex  ST-658 complex              2   False\n",
       "\n",
       "[53669980 rows x 4 columns]"
      ]
     },
     "execution_count": 17,
     "metadata": {},
     "output_type": "execute_result"
    }
   ],
   "source": [
    "#matrix_small"
   ]
  },
  {
   "cell_type": "code",
   "execution_count": 20,
   "metadata": {},
   "outputs": [],
   "source": [
    "res_sameCC = matrix.query(\"`sameCC` == True and `sumResistance` == 2\")"
   ]
  },
  {
   "cell_type": "code",
   "execution_count": 30,
   "metadata": {},
   "outputs": [],
   "source": [
    "sus_sameCC = matrix.query(\"`sameCC` == True and `sumResistance` == 0\")"
   ]
  },
  {
   "cell_type": "code",
   "execution_count": 131,
   "metadata": {},
   "outputs": [],
   "source": [
    "sameCC = matrix.query(\"`sameCC` == True and `branchLength` < 100\")"
   ]
  },
  {
   "cell_type": "code",
   "execution_count": 153,
   "metadata": {},
   "outputs": [],
   "source": [
    "sameCC_single = sameCC.query(\"`ID1cc` == 'ST-21 complex'\")"
   ]
  },
  {
   "cell_type": "code",
   "execution_count": null,
   "metadata": {},
   "outputs": [],
   "source": [
    "def my_function():\n",
    "    CC_name = sampleCC.query(\"`ID1cc` == i \")\n",
    "    for i in range:\n",
    "        fig,ax = plt.subplots()\n",
    "        sns.boxplot(data=CC_name, x='status', y='branchLength', ax=ax)\n",
    "        \n",
    "        fig,ax = plt.subplots()\n",
    "        sns.kdeplot(data=sameCC_single, x='branchLength', hue='status', common_norm=False, ax=ax)"
   ]
  },
  {
   "cell_type": "code",
   "execution_count": 133,
   "metadata": {},
   "outputs": [
    {
     "data": {
      "text/plain": [
       "<matplotlib.axes._subplots.AxesSubplot at 0x7fd3aa085910>"
      ]
     },
     "execution_count": 133,
     "metadata": {},
     "output_type": "execute_result"
    },
    {
     "data": {
      "image/png": "[encoded data removed]",
      "text/plain": [
       "<Figure size 432x288 with 1 Axes>"
      ]
     },
     "metadata": {
      "needs_background": "light"
     },
     "output_type": "display_data"
    }
   ],
   "source": [
    "fig,ax = plt.subplots()\n",
    "sns.boxplot(data=sameCC, x='status', y='branchLength', ax=ax)"
   ]
  },
  {
   "cell_type": "code",
   "execution_count": 154,
   "metadata": {},
   "outputs": [
    {
     "data": {
      "text/plain": [
       "<matplotlib.axes._subplots.AxesSubplot at 0x7fd3138402e0>"
      ]
     },
     "execution_count": 154,
     "metadata": {},
     "output_type": "execute_result"
    },
    {
     "data": {
      "image/png": "[encoded data removed]",
      "text/plain": [
       "<Figure size 432x288 with 1 Axes>"
      ]
     },
     "metadata": {
      "needs_background": "light"
     },
     "output_type": "display_data"
    }
   ],
   "source": [
    "fig,ax = plt.subplots()\n",
    "sns.boxplot(data=sameCC_single, x='status', y='branchLength', ax=ax)"
   ]
  },
  {
   "cell_type": "code",
   "execution_count": 157,
   "metadata": {},
   "outputs": [
    {
     "data": {
      "text/plain": [
       "<matplotlib.axes._subplots.AxesSubplot at 0x7fd3147101f0>"
      ]
     },
     "execution_count": 157,
     "metadata": {},
     "output_type": "execute_result"
    },
    {
     "data": {
      "image/png": "[encoded data removed]",
      "text/plain": [
       "<Figure size 432x288 with 1 Axes>"
      ]
     },
     "metadata": {
      "needs_background": "light"
     },
     "output_type": "display_data"
    }
   ],
   "source": [
    "fig,ax = plt.subplots()\n",
    "sns.kdeplot(data=sameCC.sample(1000000), x='branchLength', hue='status', common_norm=False, ax=ax)"
   ]
  },
  {
   "cell_type": "code",
   "execution_count": 155,
   "metadata": {},
   "outputs": [
    {
     "data": {
      "text/plain": [
       "<matplotlib.axes._subplots.AxesSubplot at 0x7fd313d4dee0>"
      ]
     },
     "execution_count": 155,
     "metadata": {},
     "output_type": "execute_result"
    },
    {
     "data": {
      "image/png": "[encoded data removed]",
      "text/plain": [
       "<Figure size 432x288 with 1 Axes>"
      ]
     },
     "metadata": {
      "needs_background": "light"
     },
     "output_type": "display_data"
    }
   ],
   "source": [
    "fig,ax = plt.subplots()\n",
    "a = sns.kdeplot(data=sameCC_single, x='branchLength', hue='status', common_norm=False, ax=ax)\n",
    "a.savefig('CC_kdeplot.png')"
   ]
  },
  {
   "cell_type": "code",
   "execution_count": 29,
   "metadata": {},
   "outputs": [
    {
     "data": {
      "text/html": [
       "<div>\n",
       "<style scoped>\n",
       "    .dataframe tbody tr th:only-of-type {\n",
       "        vertical-align: middle;\n",
       "    }\n",
       "\n",
       "    .dataframe tbody tr th {\n",
       "        vertical-align: top;\n",
       "    }\n",
       "\n",
       "    .dataframe thead th {\n",
       "        text-align: right;\n",
       "    }\n",
       "</style>\n",
       "<table border=\"1\" class=\"dataframe\">\n",
       "  <thead>\n",
       "    <tr style=\"text-align: right;\">\n",
       "      <th></th>\n",
       "      <th>ID1</th>\n",
       "      <th>branchLength</th>\n",
       "      <th>sumResistance</th>\n",
       "    </tr>\n",
       "  </thead>\n",
       "  <tbody>\n",
       "    <tr>\n",
       "      <th>count</th>\n",
       "      <td>679349.000000</td>\n",
       "      <td>6.793490e+05</td>\n",
       "      <td>679349.0</td>\n",
       "    </tr>\n",
       "    <tr>\n",
       "      <th>mean</th>\n",
       "      <td>33905.726796</td>\n",
       "      <td>2.886814e+00</td>\n",
       "      <td>2.0</td>\n",
       "    </tr>\n",
       "    <tr>\n",
       "      <th>std</th>\n",
       "      <td>14632.663771</td>\n",
       "      <td>1.533122e+01</td>\n",
       "      <td>0.0</td>\n",
       "    </tr>\n",
       "    <tr>\n",
       "      <th>min</th>\n",
       "      <td>2659.000000</td>\n",
       "      <td>0.000000e+00</td>\n",
       "      <td>2.0</td>\n",
       "    </tr>\n",
       "    <tr>\n",
       "      <th>25%</th>\n",
       "      <td>23573.000000</td>\n",
       "      <td>2.011083e-16</td>\n",
       "      <td>2.0</td>\n",
       "    </tr>\n",
       "    <tr>\n",
       "      <th>50%</th>\n",
       "      <td>32843.000000</td>\n",
       "      <td>1.825675e+00</td>\n",
       "      <td>2.0</td>\n",
       "    </tr>\n",
       "    <tr>\n",
       "      <th>75%</th>\n",
       "      <td>41486.000000</td>\n",
       "      <td>5.504560e+00</td>\n",
       "      <td>2.0</td>\n",
       "    </tr>\n",
       "    <tr>\n",
       "      <th>max</th>\n",
       "      <td>78452.000000</td>\n",
       "      <td>7.079876e+02</td>\n",
       "      <td>2.0</td>\n",
       "    </tr>\n",
       "  </tbody>\n",
       "</table>\n",
       "</div>"
      ],
      "text/plain": [
       "                 ID1  branchLength  sumResistance\n",
       "count  679349.000000  6.793490e+05       679349.0\n",
       "mean    33905.726796  2.886814e+00            2.0\n",
       "std     14632.663771  1.533122e+01            0.0\n",
       "min      2659.000000  0.000000e+00            2.0\n",
       "25%     23573.000000  2.011083e-16            2.0\n",
       "50%     32843.000000  1.825675e+00            2.0\n",
       "75%     41486.000000  5.504560e+00            2.0\n",
       "max     78452.000000  7.079876e+02            2.0"
      ]
     },
     "execution_count": 29,
     "metadata": {},
     "output_type": "execute_result"
    }
   ],
   "source": [
    "res_sameCC.describe()"
   ]
  },
  {
   "cell_type": "code",
   "execution_count": 31,
   "metadata": {},
   "outputs": [
    {
     "data": {
      "text/html": [
       "<div>\n",
       "<style scoped>\n",
       "    .dataframe tbody tr th:only-of-type {\n",
       "        vertical-align: middle;\n",
       "    }\n",
       "\n",
       "    .dataframe tbody tr th {\n",
       "        vertical-align: top;\n",
       "    }\n",
       "\n",
       "    .dataframe thead th {\n",
       "        text-align: right;\n",
       "    }\n",
       "</style>\n",
       "<table border=\"1\" class=\"dataframe\">\n",
       "  <thead>\n",
       "    <tr style=\"text-align: right;\">\n",
       "      <th></th>\n",
       "      <th>ID1</th>\n",
       "      <th>branchLength</th>\n",
       "      <th>sumResistance</th>\n",
       "    </tr>\n",
       "  </thead>\n",
       "  <tbody>\n",
       "    <tr>\n",
       "      <th>count</th>\n",
       "      <td>3.135086e+06</td>\n",
       "      <td>3.135086e+06</td>\n",
       "      <td>3135086.0</td>\n",
       "    </tr>\n",
       "    <tr>\n",
       "      <th>mean</th>\n",
       "      <td>3.350131e+04</td>\n",
       "      <td>3.020398e+00</td>\n",
       "      <td>0.0</td>\n",
       "    </tr>\n",
       "    <tr>\n",
       "      <th>std</th>\n",
       "      <td>1.561607e+04</td>\n",
       "      <td>2.585252e+01</td>\n",
       "      <td>0.0</td>\n",
       "    </tr>\n",
       "    <tr>\n",
       "      <th>min</th>\n",
       "      <td>2.670000e+03</td>\n",
       "      <td>0.000000e+00</td>\n",
       "      <td>0.0</td>\n",
       "    </tr>\n",
       "    <tr>\n",
       "      <th>25%</th>\n",
       "      <td>2.235000e+04</td>\n",
       "      <td>1.019805e-16</td>\n",
       "      <td>0.0</td>\n",
       "    </tr>\n",
       "    <tr>\n",
       "      <th>50%</th>\n",
       "      <td>3.132600e+04</td>\n",
       "      <td>1.243835e+00</td>\n",
       "      <td>0.0</td>\n",
       "    </tr>\n",
       "    <tr>\n",
       "      <th>75%</th>\n",
       "      <td>4.199100e+04</td>\n",
       "      <td>2.468991e+00</td>\n",
       "      <td>0.0</td>\n",
       "    </tr>\n",
       "    <tr>\n",
       "      <th>max</th>\n",
       "      <td>7.888400e+04</td>\n",
       "      <td>7.079641e+02</td>\n",
       "      <td>0.0</td>\n",
       "    </tr>\n",
       "  </tbody>\n",
       "</table>\n",
       "</div>"
      ],
      "text/plain": [
       "                ID1  branchLength  sumResistance\n",
       "count  3.135086e+06  3.135086e+06      3135086.0\n",
       "mean   3.350131e+04  3.020398e+00            0.0\n",
       "std    1.561607e+04  2.585252e+01            0.0\n",
       "min    2.670000e+03  0.000000e+00            0.0\n",
       "25%    2.235000e+04  1.019805e-16            0.0\n",
       "50%    3.132600e+04  1.243835e+00            0.0\n",
       "75%    4.199100e+04  2.468991e+00            0.0\n",
       "max    7.888400e+04  7.079641e+02            0.0"
      ]
     },
     "execution_count": 31,
     "metadata": {},
     "output_type": "execute_result"
    }
   ],
   "source": [
    "sus_sameCC.describe()"
   ]
  },
  {
   "cell_type": "code",
   "execution_count": 34,
   "metadata": {},
   "outputs": [
    {
     "data": {
      "text/plain": [
       "<matplotlib.axes._subplots.AxesSubplot at 0x7fd476cae520>"
      ]
     },
     "execution_count": 34,
     "metadata": {},
     "output_type": "execute_result"
    },
    {
     "data": {
      "image/png": "[encoded data removed]",
      "text/plain": [
       "<Figure size 432x288 with 1 Axes>"
      ]
     },
     "metadata": {
      "needs_background": "light"
     },
     "output_type": "display_data"
    }
   ],
   "source": [
    "sus_sameCC['branchLength'].hist()"
   ]
  },
  {
   "cell_type": "code",
   "execution_count": 37,
   "metadata": {},
   "outputs": [
    {
     "data": {
      "text/plain": [
       "<bound method PlotAccessor.scatter of <pandas.plotting._core.PlotAccessor object at 0x7fd4788d9e80>>"
      ]
     },
     "execution_count": 37,
     "metadata": {},
     "output_type": "execute_result"
    }
   ],
   "source": [
    "sus_sameCC.plot.scatter"
   ]
  },
  {
   "cell_type": "code",
   "execution_count": 92,
   "metadata": {},
   "outputs": [
    {
     "data": {
      "text/plain": [
       "(-1.0, 12.0)"
      ]
     },
     "execution_count": 92,
     "metadata": {},
     "output_type": "execute_result"
    },
    {
     "data": {
      "image/png": "[encoded data removed]",
      "text/plain": [
       "<Figure size 432x288 with 1 Axes>"
      ]
     },
     "metadata": {
      "needs_background": "light"
     },
     "output_type": "display_data"
    }
   ],
   "source": [
    "a = sus_sameCC.boxplot(column=['branchLength'])\n",
    "plt.ylim(-1,12)"
   ]
  },
  {
   "cell_type": "code",
   "execution_count": 96,
   "metadata": {},
   "outputs": [
    {
     "data": {
      "text/plain": [
       "(-1.0, 12.0)"
      ]
     },
     "execution_count": 96,
     "metadata": {},
     "output_type": "execute_result"
    },
    {
     "data": {
      "image/png": "[encoded data removed]",
      "text/plain": [
       "<Figure size 432x288 with 1 Axes>"
      ]
     },
     "metadata": {
      "needs_background": "light"
     },
     "output_type": "display_data"
    }
   ],
   "source": [
    "b = res_sameCC.boxplot(column=['branchLength'])\n",
    "plt.ylim(-1,12)"
   ]
  },
  {
   "cell_type": "code",
   "execution_count": 90,
   "metadata": {},
   "outputs": [
    {
     "ename": "NameError",
     "evalue": "name 'data' is not defined",
     "output_type": "error",
     "traceback": [
      "\u001b[0;31m---------------------------------------------------------------------------\u001b[0m",
      "\u001b[0;31mNameError\u001b[0m                                 Traceback (most recent call last)",
      "\u001b[0;32m<ipython-input-90-eb6066d11d59>\u001b[0m in \u001b[0;36m<module>\u001b[0;34m\u001b[0m\n\u001b[0;32m----> 1\u001b[0;31m \u001b[0max\u001b[0m \u001b[0;34m=\u001b[0m \u001b[0mdata\u001b[0m\u001b[0;34m[\u001b[0m\u001b[0;34m[\u001b[0m\u001b[0;34m'a'\u001b[0m\u001b[0;34m,\u001b[0m \u001b[0;34m'b'\u001b[0m\u001b[0;34m]\u001b[0m\u001b[0;34m]\u001b[0m\u001b[0;34m.\u001b[0m\u001b[0mplot\u001b[0m\u001b[0;34m(\u001b[0m\u001b[0mkind\u001b[0m\u001b[0;34m=\u001b[0m\u001b[0;34m'box'\u001b[0m\u001b[0;34m,\u001b[0m \u001b[0mtitle\u001b[0m\u001b[0;34m=\u001b[0m\u001b[0;34m'boxplot'\u001b[0m\u001b[0;34m)\u001b[0m\u001b[0;34m\u001b[0m\u001b[0;34m\u001b[0m\u001b[0m\n\u001b[0m",
      "\u001b[0;31mNameError\u001b[0m: name 'data' is not defined"
     ]
    }
   ],
   "source": [
    "ax = data[['a', 'b']].plot(kind='box', title='boxplot')"
   ]
  },
  {
   "cell_type": "code",
   "execution_count": 42,
   "metadata": {},
   "outputs": [
    {
     "data": {
      "text/plain": [
       "pandas.core.frame.DataFrame"
      ]
     },
     "execution_count": 42,
     "metadata": {},
     "output_type": "execute_result"
    }
   ],
   "source": [
    "type(sus_sameCC)"
   ]
  },
  {
   "cell_type": "code",
   "execution_count": 41,
   "metadata": {},
   "outputs": [
    {
     "data": {
      "text/html": [
       "<div>\n",
       "<style scoped>\n",
       "    .dataframe tbody tr th:only-of-type {\n",
       "        vertical-align: middle;\n",
       "    }\n",
       "\n",
       "    .dataframe tbody tr th {\n",
       "        vertical-align: top;\n",
       "    }\n",
       "\n",
       "    .dataframe thead th {\n",
       "        text-align: right;\n",
       "    }\n",
       "</style>\n",
       "<table border=\"1\" class=\"dataframe\">\n",
       "  <thead>\n",
       "    <tr style=\"text-align: right;\">\n",
       "      <th></th>\n",
       "      <th>ID1</th>\n",
       "      <th>ID2</th>\n",
       "      <th>branchLength</th>\n",
       "      <th>ID1resistance</th>\n",
       "      <th>ID1cc</th>\n",
       "      <th>ID2resistance</th>\n",
       "      <th>ID2cc</th>\n",
       "      <th>sumResistance</th>\n",
       "      <th>sameCC</th>\n",
       "    </tr>\n",
       "  </thead>\n",
       "  <tbody>\n",
       "    <tr>\n",
       "      <th>78135</th>\n",
       "      <td>5891</td>\n",
       "      <td>12882</td>\n",
       "      <td>2.096334</td>\n",
       "      <td>False</td>\n",
       "      <td>ST-48 complex</td>\n",
       "      <td>False</td>\n",
       "      <td>ST-48 complex</td>\n",
       "      <td>0</td>\n",
       "      <td>True</td>\n",
       "    </tr>\n",
       "    <tr>\n",
       "      <th>78482</th>\n",
       "      <td>5956</td>\n",
       "      <td>12882</td>\n",
       "      <td>2.096334</td>\n",
       "      <td>False</td>\n",
       "      <td>ST-48 complex</td>\n",
       "      <td>False</td>\n",
       "      <td>ST-48 complex</td>\n",
       "      <td>0</td>\n",
       "      <td>True</td>\n",
       "    </tr>\n",
       "    <tr>\n",
       "      <th>78607</th>\n",
       "      <td>5979</td>\n",
       "      <td>12882</td>\n",
       "      <td>2.096334</td>\n",
       "      <td>False</td>\n",
       "      <td>ST-48 complex</td>\n",
       "      <td>False</td>\n",
       "      <td>ST-48 complex</td>\n",
       "      <td>0</td>\n",
       "      <td>True</td>\n",
       "    </tr>\n",
       "    <tr>\n",
       "      <th>78687</th>\n",
       "      <td>6082</td>\n",
       "      <td>12882</td>\n",
       "      <td>1.633440</td>\n",
       "      <td>False</td>\n",
       "      <td>ST-48 complex</td>\n",
       "      <td>False</td>\n",
       "      <td>ST-48 complex</td>\n",
       "      <td>0</td>\n",
       "      <td>True</td>\n",
       "    </tr>\n",
       "    <tr>\n",
       "      <th>78701</th>\n",
       "      <td>6109</td>\n",
       "      <td>12882</td>\n",
       "      <td>2.096334</td>\n",
       "      <td>False</td>\n",
       "      <td>ST-48 complex</td>\n",
       "      <td>False</td>\n",
       "      <td>ST-48 complex</td>\n",
       "      <td>0</td>\n",
       "      <td>True</td>\n",
       "    </tr>\n",
       "  </tbody>\n",
       "</table>\n",
       "</div>"
      ],
      "text/plain": [
       "        ID1    ID2  branchLength  ID1resistance          ID1cc  ID2resistance  \\\n",
       "78135  5891  12882      2.096334          False  ST-48 complex          False   \n",
       "78482  5956  12882      2.096334          False  ST-48 complex          False   \n",
       "78607  5979  12882      2.096334          False  ST-48 complex          False   \n",
       "78687  6082  12882      1.633440          False  ST-48 complex          False   \n",
       "78701  6109  12882      2.096334          False  ST-48 complex          False   \n",
       "\n",
       "               ID2cc  sumResistance  sameCC  \n",
       "78135  ST-48 complex              0    True  \n",
       "78482  ST-48 complex              0    True  \n",
       "78607  ST-48 complex              0    True  \n",
       "78687  ST-48 complex              0    True  \n",
       "78701  ST-48 complex              0    True  "
      ]
     },
     "execution_count": 41,
     "metadata": {},
     "output_type": "execute_result"
    }
   ],
   "source": [
    "sus_sameCC.head()"
   ]
  },
  {
   "cell_type": "code",
   "execution_count": 43,
   "metadata": {},
   "outputs": [
    {
     "name": "stdout",
     "output_type": "stream",
     "text": [
      "<class 'pandas.core.frame.DataFrame'>\n",
      "Int64Index: 3135086 entries, 78135 to 160452649\n",
      "Data columns (total 9 columns):\n",
      " #   Column         Dtype  \n",
      "---  ------         -----  \n",
      " 0   ID1            int64  \n",
      " 1   ID2            object \n",
      " 2   branchLength   float64\n",
      " 3   ID1resistance  bool   \n",
      " 4   ID1cc          object \n",
      " 5   ID2resistance  bool   \n",
      " 6   ID2cc          object \n",
      " 7   sumResistance  int64  \n",
      " 8   sameCC         bool   \n",
      "dtypes: bool(3), float64(1), int64(2), object(3)\n",
      "memory usage: 176.4+ MB\n"
     ]
    }
   ],
   "source": [
    "sus_sameCC.info()"
   ]
  },
  {
   "cell_type": "code",
   "execution_count": 77,
   "metadata": {},
   "outputs": [
    {
     "data": {
      "text/plain": [
       "(0.0, 4.0)"
      ]
     },
     "execution_count": 77,
     "metadata": {},
     "output_type": "execute_result"
    },
    {
     "data": {
      "image/png": "[encoded data removed]",
      "text/plain": [
       "<Figure size 360x360 with 1 Axes>"
      ]
     },
     "metadata": {
      "needs_background": "light"
     },
     "output_type": "display_data"
    }
   ],
   "source": [
    "sns.displot(data=sus_sameCC, x=\"branchLength\",bins = 1000)\n",
    "plt.xlim(0,4)"
   ]
  },
  {
   "cell_type": "code",
   "execution_count": 76,
   "metadata": {},
   "outputs": [
    {
     "data": {
      "text/plain": [
       "(0.0, 4.0)"
      ]
     },
     "execution_count": 76,
     "metadata": {},
     "output_type": "execute_result"
    },
    {
     "data": {
      "image/png": "[encoded data removed]",
      "text/plain": [
       "<Figure size 360x360 with 1 Axes>"
      ]
     },
     "metadata": {
      "needs_background": "light"
     },
     "output_type": "display_data"
    }
   ],
   "source": [
    "sns.displot(data=res_sameCC, x=\"branchLength\",bins = 1000)\n",
    "plt.xlim(0,4)"
   ]
  },
  {
   "cell_type": "code",
   "execution_count": null,
   "metadata": {},
   "outputs": [],
   "source": []
  }
 ],
 "metadata": {
  "kernelspec": {
   "display_name": "Python 3",
   "language": "python",
   "name": "python3"
  },
  "language_info": {
   "codemirror_mode": {
    "name": "ipython",
    "version": 3
   },
   "file_extension": ".py",
   "mimetype": "text/x-python",
   "name": "python",
   "nbconvert_exporter": "python",
   "pygments_lexer": "ipython3",
   "version": "3.8.3"
  }
 },
 "nbformat": 4,
 "nbformat_minor": 4
}
